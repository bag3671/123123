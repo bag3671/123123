{
 "cells": [
  {
   "cell_type": "code",
   "execution_count": 6,
   "metadata": {},
   "outputs": [
    {
     "name": "stdout",
     "output_type": "stream",
     "text": [
      "숫자를 입력하세요 :8\n"
     ]
    }
   ],
   "source": [
    "# 양수판별\n",
    "n = int(input('숫자를 입력하세요 :'))"
   ]
  },
  {
   "cell_type": "code",
   "execution_count": 7,
   "metadata": {},
   "outputs": [
    {
     "name": "stdout",
     "output_type": "stream",
     "text": [
      "8 은/는 양수입니다\n"
     ]
    }
   ],
   "source": [
    "if n > 0 :\n",
    "    print('%d 은/는 양수입니다'% n)\n",
    "else :\n",
    "    print('%d 은/는 0 또는 음수!' % n)"
   ]
  },
  {
   "cell_type": "code",
   "execution_count": 12,
   "metadata": {},
   "outputs": [
    {
     "name": "stdout",
     "output_type": "stream",
     "text": [
      "이름을 입력하세요 :70\n",
      "필기성적을 입력하세요 :70\n",
      "실기성적을 입력하세요 :70\n",
      "70님은 불합격입니다\n"
     ]
    }
   ],
   "source": [
    "# 논리 곱\n",
    "name = input('이름을 입력하세요 :')\n",
    "score1 = int(input('필기성적을 입력하세요 :'))\n",
    "score2 = int(input('실기성적을 입력하세요 :'))\n",
    "\n",
    "if (score1 >= 80) and (score2 >= 80) :\n",
    "    print('%s님은 합격입니다' % name)\n",
    "else :\n",
    "    print('%s님은 불합격입니다' % name)"
   ]
  },
  {
   "cell_type": "code",
   "execution_count": 16,
   "metadata": {},
   "outputs": [
    {
     "name": "stdout",
     "output_type": "stream",
     "text": [
      "이름을 입력하세요 : 1\n"
     ]
    }
   ],
   "source": [
    "# 논리부정\n",
    "name = input('이름을 입력하세요 : ')"
   ]
  },
  {
   "cell_type": "code",
   "execution_count": 17,
   "metadata": {},
   "outputs": [
    {
     "name": "stdout",
     "output_type": "stream",
     "text": [
      "입력된 이름 : 1\n"
     ]
    }
   ],
   "source": [
    "if not name:\n",
    "    print('이름이 입력되지 않았음.')\n",
    "else :\n",
    "    print('입력된 이름 : %s' % name)"
   ]
  },
  {
   "cell_type": "code",
   "execution_count": 20,
   "metadata": {},
   "outputs": [
    {
     "name": "stdout",
     "output_type": "stream",
     "text": [
      "정수 입력> 0\n"
     ]
    }
   ],
   "source": [
    "#양수, 0, 음수판별\n",
    "n = int(input('정수 입력> '))"
   ]
  },
  {
   "cell_type": "code",
   "execution_count": 25,
   "metadata": {},
   "outputs": [
    {
     "name": "stdout",
     "output_type": "stream",
     "text": [
      "0 은/는 0입니다\n"
     ]
    }
   ],
   "source": [
    "if n > 0:\n",
    "    print('%s 은/는 양수입니다' % n)\n",
    "elif n == 0:\n",
    "    print('%s 은/는 0입니다' % n)\n",
    "else :\n",
    "    print('%s 은/는 음수입니다' % n)"
   ]
  },
  {
   "cell_type": "code",
   "execution_count": 26,
   "metadata": {},
   "outputs": [
    {
     "name": "stdout",
     "output_type": "stream",
     "text": [
      "비밀번호를 입력하세요 : 1234\n",
      "비밀번호 NOT OK!\n"
     ]
    }
   ],
   "source": [
    "answer = '12345'\n",
    "password = input('비밀번호를 입력하세요 : ')\n",
    "\n",
    "if password == answer :\n",
    "    print('비밀번호 OK!')\n",
    "else :\n",
    "    print('비밀번호 NOT OK!')\n"
   ]
  },
  {
   "cell_type": "code",
   "execution_count": 28,
   "metadata": {},
   "outputs": [
    {
     "name": "stdout",
     "output_type": "stream",
     "text": [
      "점수를 입력하세요 : 77\n",
      "성적 : 77점\n",
      "등급 : C\n"
     ]
    }
   ],
   "source": [
    "score = int(input('점수를 입력하세요 : '))\n",
    "\n",
    "if score >= 90 :\n",
    "    grade = 'A'\n",
    "elif score >= 80 :\n",
    "    grade = 'B'\n",
    "elif score >= 70 :\n",
    "    grade = 'C'\n",
    "elif score >= 60 :\n",
    "    grade = 'D'\n",
    "else :\n",
    "    grade = 'F'\n",
    "    \n",
    "print('성적 : %d점'% score)\n",
    "print('등급 : %s'% grade)\n"
   ]
  },
  {
   "cell_type": "code",
   "execution_count": 33,
   "metadata": {},
   "outputs": [
    {
     "name": "stdout",
     "output_type": "stream",
     "text": [
      "월을 입력하세요 : 4\n",
      "4 월은 봄입니다.\n"
     ]
    }
   ],
   "source": [
    "month = int(input('월을 입력하세요 : '))\n",
    "\n",
    "if month >= 3 and month <= 5:\n",
    "    print('%d 월은 봄입니다.'% month)\n",
    "if month >= 6 and month <= 8:\n",
    "    print('%d 월은 여름입니다.'% month)\n",
    "if month >= 9 and month <= 11:\n",
    "    print('%d 월은 가을입니다.'% month)\n",
    "if month ==12 or month ==1 or month ==2: \n",
    "     print('%d 월은 겨울입니다.'% month)"
   ]
  },
  {
   "cell_type": "code",
   "execution_count": null,
   "metadata": {},
   "outputs": [],
   "source": []
  }
 ],
 "metadata": {
  "kernelspec": {
   "display_name": "Python 3",
   "language": "python",
   "name": "python3"
  },
  "language_info": {
   "codemirror_mode": {
    "name": "ipython",
    "version": 3
   },
   "file_extension": ".py",
   "mimetype": "text/x-python",
   "name": "python",
   "nbconvert_exporter": "python",
   "pygments_lexer": "ipython3",
   "version": "3.8.3"
  }
 },
 "nbformat": 4,
 "nbformat_minor": 4
}
