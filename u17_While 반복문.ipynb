{
 "cells": [
  {
   "cell_type": "markdown",
   "metadata": {},
   "source": [
    "# Unit 17. while 반복문"
   ]
  },
  {
   "cell_type": "code",
   "execution_count": 1,
   "metadata": {},
   "outputs": [
    {
     "name": "stdout",
     "output_type": "stream",
     "text": [
      "Hello World 0\n",
      "Hello World 1\n",
      "Hello World 2\n",
      "Hello World 3\n",
      "Hello World 4\n"
     ]
    }
   ],
   "source": [
    "for i in range(5):\n",
    "    print('Hello World',i)"
   ]
  },
  {
   "cell_type": "code",
   "execution_count": 2,
   "metadata": {},
   "outputs": [
    {
     "name": "stdout",
     "output_type": "stream",
     "text": [
      "Hello world 0\n",
      "Hello world 1\n",
      "Hello world 2\n",
      "Hello world 3\n",
      "Hello world 4\n"
     ]
    }
   ],
   "source": [
    "i = 0\n",
    "while i < 5:\n",
    "    print('Hello world',i)\n",
    "    i += 1"
   ]
  },
  {
   "cell_type": "code",
   "execution_count": 3,
   "metadata": {},
   "outputs": [
    {
     "name": "stdout",
     "output_type": "stream",
     "text": [
      "반복할 횟수 : 2\n",
      "Hello world 0\n",
      "Hello world 1\n"
     ]
    }
   ],
   "source": [
    "count = int(input('반복할 횟수 : '))\n",
    "i = 0\n",
    "while i < count:\n",
    "    print('Hello world',i)\n",
    "    i +=1"
   ]
  },
  {
   "cell_type": "code",
   "execution_count": 7,
   "metadata": {},
   "outputs": [],
   "source": [
    "import random as rd"
   ]
  },
  {
   "cell_type": "code",
   "execution_count": 8,
   "metadata": {},
   "outputs": [
    {
     "data": {
      "text/plain": [
       "0.6253583983022726"
      ]
     },
     "execution_count": 8,
     "metadata": {},
     "output_type": "execute_result"
    }
   ],
   "source": [
    "rd.random()"
   ]
  },
  {
   "cell_type": "code",
   "execution_count": 32,
   "metadata": {},
   "outputs": [
    {
     "data": {
      "text/plain": [
       "6"
      ]
     },
     "execution_count": 32,
     "metadata": {},
     "output_type": "execute_result"
    }
   ],
   "source": [
    "rd.randint(1,6)"
   ]
  },
  {
   "cell_type": "code",
   "execution_count": 43,
   "metadata": {},
   "outputs": [
    {
     "name": "stdout",
     "output_type": "stream",
     "text": [
      "6\n",
      "4\n"
     ]
    }
   ],
   "source": [
    "dice = rd.randint(1,6)\n",
    "k = 0 \n",
    "while dice != 3 or k == 10:\n",
    "    print(dice)\n",
    "    dice = rd.randint(1,6)\n",
    "    k += 1"
   ]
  },
  {
   "cell_type": "code",
   "execution_count": 45,
   "metadata": {},
   "outputs": [
    {
     "name": "stdout",
     "output_type": "stream",
     "text": [
      "6\n"
     ]
    }
   ],
   "source": [
    "dice = [1,2,3,4,5,6]\n",
    "var = rd.choice(dice)\n",
    "print(var)"
   ]
  },
  {
   "cell_type": "code",
   "execution_count": 48,
   "metadata": {},
   "outputs": [
    {
     "name": "stdout",
     "output_type": "stream",
     "text": [
      "melon\n"
     ]
    }
   ],
   "source": [
    "fruits = ['apple','banana','melon']\n",
    "var = rd.choice(fruits)\n",
    "print(var)"
   ]
  },
  {
   "cell_type": "code",
   "execution_count": 52,
   "metadata": {},
   "outputs": [
    {
     "name": "stdout",
     "output_type": "stream",
     "text": [
      "정수 입력 : 54\n",
      "3의배수\n"
     ]
    }
   ],
   "source": [
    "num = int(input('정수 입력 : '))\n",
    "print('3의배수' * (num%3 == 0)or'3의 배수가 아닙니다')"
   ]
  },
  {
   "cell_type": "code",
   "execution_count": 59,
   "metadata": {},
   "outputs": [
    {
     "name": "stdout",
     "output_type": "stream",
     "text": [
      "13500\n",
      "12150\n",
      "10800\n",
      "9450\n",
      "8100\n",
      "6750\n",
      "5400\n",
      "4050\n",
      "2700\n",
      "1350\n",
      "0\n"
     ]
    }
   ],
   "source": [
    "price = int(input())\n",
    "while price >= 1350:\n",
    "    price += -1350\n",
    "    print(price)"
   ]
  },
  {
   "cell_type": "code",
   "execution_count": null,
   "metadata": {},
   "outputs": [],
   "source": [
    "price=int(input())\n",
    "cash = input()\n",
    "if cash == 'Cash3000':\n",
    "    price -=3000\n",
    "    print(price)\n",
    "elif cash == 'Cash5000':\n",
    "    price -= 5000\n",
    "    print(price)\n",
    "else :\n",
    "    print(\"쿠폰을 확인하세요\")"
   ]
  },
  {
   "cell_type": "code",
   "execution_count": null,
   "metadata": {},
   "outputs": [],
   "source": []
  }
 ],
 "metadata": {
  "kernelspec": {
   "display_name": "Python 3",
   "language": "python",
   "name": "python3"
  },
  "language_info": {
   "codemirror_mode": {
    "name": "ipython",
    "version": 3
   },
   "file_extension": ".py",
   "mimetype": "text/x-python",
   "name": "python",
   "nbconvert_exporter": "python",
   "pygments_lexer": "ipython3",
   "version": "3.8.3"
  }
 },
 "nbformat": 4,
 "nbformat_minor": 4
}
