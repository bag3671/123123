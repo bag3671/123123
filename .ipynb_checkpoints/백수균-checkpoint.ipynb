{
 "cells": [
  {
   "cell_type": "markdown",
   "metadata": {},
   "source": [
    "# 4장 "
   ]
  },
  {
   "cell_type": "markdown",
   "metadata": {},
   "source": [
    "### 1번"
   ]
  },
  {
   "cell_type": "code",
   "execution_count": 7,
   "metadata": {},
   "outputs": [
    {
     "name": "stdout",
     "output_type": "stream",
     "text": [
      "1~10까지의 숫자1개를 넣으세요 : 7\n",
      "just right\n"
     ]
    }
   ],
   "source": [
    "secret = 7\n",
    "guess= int(input('1~10까지의 숫자1개를 넣으세요 : '))\n",
    "if guess < secret:\n",
    "    print('too low')\n",
    "elif guess > secret:\n",
    "    print('too hight')\n",
    "else:\n",
    "    print('just right')"
   ]
  },
  {
   "cell_type": "markdown",
   "metadata": {},
   "source": [
    "### 2번"
   ]
  },
  {
   "cell_type": "code",
   "execution_count": 86,
   "metadata": {},
   "outputs": [
    {
     "name": "stdout",
     "output_type": "stream",
     "text": [
      "체리은/는 작고 녹색이 아니다\n",
      "완두콩은/는 작고 녹색이다\n",
      "수박은/는 크고 녹색이다\n",
      "호박은/는 크고 녹색이 아니다\n"
     ]
    }
   ],
   "source": [
    "### 문제설명을 이해하지 못해서 일단 쓰여있는대로 했습니다\n",
    "small = True\n",
    "green = True\n",
    "k = [[small,'','체리'],[small,green,'완두콩'],['',green,'수박'],['','','호박']]\n",
    "for i in k:\n",
    "    if i[0]:\n",
    "        s = '작고'\n",
    "    else:\n",
    "        s = '크고'\n",
    "    if i[1]:\n",
    "        g = '녹색이다'\n",
    "    else:\n",
    "        g = '녹색이 아니다'\n",
    "    print(f'{i[2]}은/는 {s} {g}')\n",
    "    "
   ]
  },
  {
   "cell_type": "markdown",
   "metadata": {},
   "source": [
    "# 5장"
   ]
  },
  {
   "cell_type": "markdown",
   "metadata": {},
   "source": [
    "### 1번"
   ]
  },
  {
   "cell_type": "code",
   "execution_count": 38,
   "metadata": {},
   "outputs": [
    {
     "name": "stdout",
     "output_type": "stream",
     "text": [
      "when an ell grabs your arm, ...and it mom\n",
      "['when', 'an', 'ell', 'grabs', 'your', 'arm,', '...and', 'it', 'mom']\n"
     ]
    },
    {
     "data": {
      "text/plain": [
       "'when an ell grabs your arm, ...and it MOM'"
      ]
     },
     "execution_count": 38,
     "metadata": {},
     "output_type": "execute_result"
    }
   ],
   "source": [
    "a = input()\n",
    "import string\n",
    "b = a.strip(string.punctuation).split()\n",
    "print(b)\n",
    "x = []\n",
    "for i in b:\n",
    "    if i[0] == 'm':\n",
    "        i = i.upper()\n",
    "    x.append(i)\n",
    "' '.join(x)"
   ]
  },
  {
   "cell_type": "markdown",
   "metadata": {},
   "source": [
    "### 2번"
   ]
  },
  {
   "cell_type": "code",
   "execution_count": 54,
   "metadata": {},
   "outputs": [
    {
     "name": "stdout",
     "output_type": "stream",
     "text": [
      "Q : We dong't serve strings arount here, Are you a astrings\n",
      "A : An exploding sheep.\n",
      "Q : What is said on Father's Day in the forest\n",
      "A : No, I'm a frayed knot\n"
     ]
    }
   ],
   "source": [
    "q = [\"We dong't serve strings arount here, Are you a astrings\",\n",
    "    \"What is said on Father's Day in the forest\"]\n",
    "a = [\"An exploding sheep.\",\n",
    "    \"No, I'm a frayed knot\"]\n",
    "for i in range(len(q)):\n",
    "    print(f'Q : {q[i]}')\n",
    "    print(f'A : {a[i]}')"
   ]
  },
  {
   "cell_type": "markdown",
   "metadata": {},
   "source": [
    "### 3번"
   ]
  },
  {
   "cell_type": "code",
   "execution_count": 70,
   "metadata": {},
   "outputs": [
    {
     "name": "stdout",
     "output_type": "stream",
     "text": [
      "My kitty cat likes roast beef,\n",
      "My kitty cat likes ham,\n",
      "My kitty cat fell on his head And thongks he's a clam\n"
     ]
    }
   ],
   "source": [
    "k = '''My kitty cat likes %s,\n",
    "My kitty cat likes %s,\n",
    "My kitty cat fell on his %s And thongks he's a %s''' % ('roast beef','ham', 'head','clam')\n",
    "print(k)"
   ]
  },
  {
   "cell_type": "markdown",
   "metadata": {},
   "source": [
    "### 4번"
   ]
  },
  {
   "cell_type": "code",
   "execution_count": 71,
   "metadata": {},
   "outputs": [],
   "source": [
    "letter = '''\tDear {salutation} {name},\n",
    "\tThank you for your letter. We are sorry that our {product} {verbed} in your\n",
    "{room}. Please note that it should never be used in a {room}, especially near any{animals}.\n",
    "\n",
    "\tSend us your receipt and {amount} for shipping and handling. We will send you\n",
    "another {product} that, in our tests, is {percent}% less likely to have {verbed}.\n",
    "\n",
    "Thank you for your support.\n",
    "Sincerely,\n",
    "{spokesman}\n",
    "{job_title}'''"
   ]
  },
  {
   "cell_type": "markdown",
   "metadata": {},
   "source": [
    "### 5번"
   ]
  },
  {
   "cell_type": "code",
   "execution_count": 78,
   "metadata": {},
   "outputs": [
    {
     "name": "stdout",
     "output_type": "stream",
     "text": [
      "\tDear Hi kim,\n",
      "\tThank you for your letter. We are sorry that our product verbed in your\n",
      "room. Please note that it should never be used in a room, especially near anycat.\n",
      "\n",
      "\tSend us your receipt and amount for shipping and handling. We will send you\n",
      "another product that, in our tests, is 10% less likely to have verbed.\n",
      "\n",
      "Thank you for your support.\n",
      "Sincerely,\n",
      "spokesman\n",
      "job_title\n"
     ]
    }
   ],
   "source": [
    "print(letter.format(\n",
    "    salutation='Hi',\n",
    "    name='kim',\n",
    "    product='product',\n",
    "    verbed='verbed',\n",
    "    room='room',\n",
    "    animals='cat',\n",
    "    amount='amount',\n",
    "    percent='10',\n",
    "    spokesman='spokesman',\n",
    "    job_title='job_title'))\n"
   ]
  },
  {
   "cell_type": "markdown",
   "metadata": {},
   "source": [
    "### 6번"
   ]
  },
  {
   "cell_type": "code",
   "execution_count": null,
   "metadata": {},
   "outputs": [],
   "source": [
    "text = '''an English submarine 이름은 (Boaty McBoatface)로 지어졌다.\n",
    "an Australian racehorse 이름은 (Horsey McHorseface)로 지어졌다.\n",
    "a Swedish train 이름은 (Trainy McTrainface)로 지어졌다.'''"
   ]
  },
  {
   "cell_type": "code",
   "execution_count": 82,
   "metadata": {},
   "outputs": [
    {
     "name": "stdout",
     "output_type": "stream",
     "text": [
      "an English submarine 이름은 Ducky McDuckface로 지어졌다.\n",
      "an Australian racehorse 이름은 Gourdy McGourdface로 지어졌다.\n",
      "a Swedish train 이름은 Spitzy McSpitzface로 지어졌다.\n"
     ]
    }
   ],
   "source": [
    "text = '''an English submarine 이름은 %s로 지어졌다.\n",
    "an Australian racehorse 이름은 %s로 지어졌다.\n",
    "a Swedish train 이름은 %s로 지어졌다.'''\n",
    "duck = 'Ducky McDuckface'\n",
    "grount='Gourdy McGourdface'\n",
    "spitz = 'Spitzy McSpitzface'\n",
    "print(text % (duck,grount,spitz))"
   ]
  },
  {
   "cell_type": "markdown",
   "metadata": {},
   "source": [
    "### 7번 "
   ]
  },
  {
   "cell_type": "code",
   "execution_count": 81,
   "metadata": {},
   "outputs": [
    {
     "name": "stdout",
     "output_type": "stream",
     "text": [
      "an English submarine 이름은 Ducky McDuckface로 지어졌다.\n",
      "an Australian racehorse 이름은 Gourdy McGourdface로 지어졌다.\n",
      "a Swedish train 이름은 Spitzy McSpitzface로 지어졌다.\n"
     ]
    }
   ],
   "source": [
    "text = '''an English submarine 이름은 {duck}로 지어졌다.\n",
    "an Australian racehorse 이름은 {grount}로 지어졌다.\n",
    "a Swedish train 이름은 {spitz}로 지어졌다.'''\n",
    "print(text.format(duck = 'Ducky McDuckface',\n",
    "                  grount='Gourdy McGourdface',\n",
    "                  spitz = 'Spitzy McSpitzface' ))"
   ]
  },
  {
   "cell_type": "markdown",
   "metadata": {},
   "source": [
    "### 8번 "
   ]
  },
  {
   "cell_type": "code",
   "execution_count": 85,
   "metadata": {},
   "outputs": [
    {
     "name": "stdout",
     "output_type": "stream",
     "text": [
      "an English submarine 이름은 Ducky McDuckface로 지어졌다.\n",
      "an Australian racehorse 이름은 Gourdy McGourdface로 지어졌다.\n",
      "a Swedish train 이름은 Spitzy McSpitzface로 지어졌다.\n"
     ]
    }
   ],
   "source": [
    "duck = 'Ducky McDuckface'\n",
    "grount='Gourdy McGourdface'\n",
    "spitz = 'Spitzy McSpitzface'\n",
    "text = f'''an English submarine 이름은 {duck}로 지어졌다.\n",
    "an Australian racehorse 이름은 {grount}로 지어졌다.\n",
    "a Swedish train 이름은 {spitz}로 지어졌다.'''\n",
    "print(text)\n"
   ]
  },
  {
   "cell_type": "code",
   "execution_count": null,
   "metadata": {},
   "outputs": [],
   "source": []
  }
 ],
 "metadata": {
  "kernelspec": {
   "display_name": "Python 3",
   "language": "python",
   "name": "python3"
  },
  "language_info": {
   "codemirror_mode": {
    "name": "ipython",
    "version": 3
   },
   "file_extension": ".py",
   "mimetype": "text/x-python",
   "name": "python",
   "nbconvert_exporter": "python",
   "pygments_lexer": "ipython3",
   "version": "3.8.3"
  }
 },
 "nbformat": 4,
 "nbformat_minor": 4
}
