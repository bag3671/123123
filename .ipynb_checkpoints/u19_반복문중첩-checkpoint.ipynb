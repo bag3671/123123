{
 "cells": [
  {
   "cell_type": "markdown",
   "metadata": {},
   "source": [
    "# Unit 19. 계단식으로 별 출력하기"
   ]
  },
  {
   "cell_type": "code",
   "execution_count": 7,
   "metadata": {},
   "outputs": [
    {
     "name": "stdout",
     "output_type": "stream",
     "text": [
      "k: 0 k: 1 k: 2 k: 3 k: 4 i: 0\n",
      "k: 0 k: 1 k: 2 k: 3 k: 4 i: 1\n",
      "k: 0 k: 1 k: 2 k: 3 k: 4 i: 2\n",
      "k: 0 k: 1 k: 2 k: 3 k: 4 i: 3\n",
      "k: 0 k: 1 k: 2 k: 3 k: 4 i: 4\n"
     ]
    }
   ],
   "source": [
    "for i in range(5):\n",
    "    for k in range(5):\n",
    "        print(f'''k: {k}''',sep='',end=' ')\n",
    "    print(f'''i: {i}''')\n"
   ]
  },
  {
   "cell_type": "code",
   "execution_count": 10,
   "metadata": {},
   "outputs": [
    {
     "name": "stdout",
     "output_type": "stream",
     "text": [
      "* * * * * \n",
      "* * * * * \n",
      "* * * * * \n",
      "* * * * * \n",
      "* * * * * \n"
     ]
    }
   ],
   "source": [
    "for i in range(5):\n",
    "    for k in range(5):\n",
    "       print('*',end=' ')\n",
    "    print()\n"
   ]
  },
  {
   "cell_type": "code",
   "execution_count": 11,
   "metadata": {},
   "outputs": [
    {
     "name": "stdout",
     "output_type": "stream",
     "text": [
      "* \n",
      "* * \n",
      "* * * \n",
      "* * * * \n",
      "* * * * * \n"
     ]
    }
   ],
   "source": [
    "# 1 사분면\n",
    "for i in range(5):\n",
    "    for k in range(i+1):\n",
    "       print('*',end=' ')\n",
    "    print()"
   ]
  },
  {
   "cell_type": "code",
   "execution_count": 12,
   "metadata": {},
   "outputs": [
    {
     "name": "stdout",
     "output_type": "stream",
     "text": [
      "    *\n",
      "   **\n",
      "  ***\n",
      " ****\n",
      "*****\n"
     ]
    }
   ],
   "source": [
    "# 2 사분면\n",
    "for i in range(5):\n",
    "    for k in range(4-i):\n",
    "        print(' ',end='')\n",
    "    for k in range(i+1):\n",
    "       print('*',end='')\n",
    "    print()"
   ]
  },
  {
   "cell_type": "code",
   "execution_count": 16,
   "metadata": {},
   "outputs": [
    {
     "name": "stdout",
     "output_type": "stream",
     "text": [
      "*****\n",
      " ****\n",
      "  ***\n",
      "   **\n",
      "    *\n"
     ]
    }
   ],
   "source": [
    "# 3 사분면\n",
    "for i in range(5):\n",
    "    for k in range(i):\n",
    "        print(' ',end='')\n",
    "    for k in range(5-i):\n",
    "        print('*',end='')\n",
    "    print()"
   ]
  },
  {
   "cell_type": "code",
   "execution_count": 14,
   "metadata": {},
   "outputs": [
    {
     "name": "stdout",
     "output_type": "stream",
     "text": [
      "*****\n",
      "****\n",
      "***\n",
      "**\n",
      "*\n"
     ]
    }
   ],
   "source": [
    "# 4 사분면\n",
    "for i in range(5):\n",
    "    for k in range(5-i):\n",
    "       print('*',end='')\n",
    "    print()\n"
   ]
  },
  {
   "cell_type": "code",
   "execution_count": 17,
   "metadata": {},
   "outputs": [
    {
     "name": "stdout",
     "output_type": "stream",
     "text": [
      "   \n",
      "  *\n",
      " ***\n",
      "*****\n"
     ]
    }
   ],
   "source": [
    "for i in range(4):\n",
    "    for k in range(3-i):\n",
    "        print(' ',end='')\n",
    "    for k in range(2*i-1):\n",
    "        print('*',end='')\n",
    "    print()\n",
    "        "
   ]
  },
  {
   "cell_type": "code",
   "execution_count": 19,
   "metadata": {},
   "outputs": [
    {
     "name": "stdout",
     "output_type": "stream",
     "text": [
      "   \n",
      "  *\n",
      " ***\n",
      "*****\n",
      " ***\n",
      "  *\n",
      "   \n"
     ]
    }
   ],
   "source": [
    "for i in range(4):\n",
    "    for k in range(3-i):\n",
    "        print(' ',end='')\n",
    "    for k in range(2*i-1):\n",
    "        print('*',end='')\n",
    "    print()\n",
    "for i in reversed(range(3)):\n",
    "    for k in range(3-i):\n",
    "        print(' ',end='')\n",
    "    for k in range(2*i-1):\n",
    "        print('*',end='')\n",
    "    print()"
   ]
  },
  {
   "cell_type": "code",
   "execution_count": 22,
   "metadata": {},
   "outputs": [
    {
     "name": "stdout",
     "output_type": "stream",
     "text": [
      "    \n",
      "   *\n",
      "  ***\n",
      " *****\n"
     ]
    }
   ],
   "source": [
    "for i in range(4):\n",
    "    print(' '*(3-i),'*'*(2*i-1))\n",
    "    \n",
    "    "
   ]
  },
  {
   "cell_type": "code",
   "execution_count": null,
   "metadata": {},
   "outputs": [],
   "source": []
  }
 ],
 "metadata": {
  "kernelspec": {
   "display_name": "Python 3",
   "language": "python",
   "name": "python3"
  },
  "language_info": {
   "codemirror_mode": {
    "name": "ipython",
    "version": 3
   },
   "file_extension": ".py",
   "mimetype": "text/x-python",
   "name": "python",
   "nbconvert_exporter": "python",
   "pygments_lexer": "ipython3",
   "version": "3.8.3"
  }
 },
 "nbformat": 4,
 "nbformat_minor": 4
}
