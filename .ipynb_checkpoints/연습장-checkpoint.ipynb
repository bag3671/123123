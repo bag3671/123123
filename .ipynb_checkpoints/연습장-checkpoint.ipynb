{
 "cells": [
  {
   "cell_type": "code",
   "execution_count": 1,
   "metadata": {},
   "outputs": [],
   "source": [
    "import random as rd\n"
   ]
  },
  {
   "cell_type": "code",
   "execution_count": 33,
   "metadata": {},
   "outputs": [
    {
     "name": "stdout",
     "output_type": "stream",
     "text": [
      "*--*----*\n",
      "-**-**-**\n",
      "------*-*\n",
      "-***--**-\n",
      "****-***-\n",
      "**-*-*---\n",
      "*--**--*-\n",
      "****-*-**\n",
      "*-****--*\n"
     ]
    }
   ],
   "source": [
    "r = rd.randint(0,1)\n",
    "for i in range(9):\n",
    "    for k in range(9):\n",
    "        print('-'*(r) or '*'*(not r),end='' )\n",
    "        r = rd.randint(0,1)\n",
    "    print()"
   ]
  },
  {
   "cell_type": "code",
   "execution_count": 80,
   "metadata": {},
   "outputs": [
    {
     "name": "stdout",
     "output_type": "stream",
     "text": [
      "*.....**.\n",
      "..*......\n",
      "...*....*\n",
      "**...****\n",
      ".*.*.....\n",
      "*....***.\n",
      "*.**....*\n",
      "..**..*.*\n",
      "**.**..*.\n",
      "{'00mine': '*', '01mine': '.', '02mine': '.', '03mine': '.', '04mine': '.', '05mine': '.', '06mine': '*', '07mine': '*', '08mine': '.', '10mine': '.', '11mine': '.', '12mine': '*', '13mine': '.', '14mine': '.', '15mine': '.', '16mine': '.', '17mine': '.', '18mine': '.', '20mine': '.', '21mine': '.', '22mine': '.', '23mine': '*', '24mine': '.', '25mine': '.', '26mine': '.', '27mine': '.', '28mine': '*', '30mine': '*', '31mine': '*', '32mine': '.', '33mine': '.', '34mine': '.', '35mine': '*', '36mine': '*', '37mine': '*', '38mine': '*', '40mine': '.', '41mine': '*', '42mine': '.', '43mine': '*', '44mine': '.', '45mine': '.', '46mine': '.', '47mine': '.', '48mine': '.', '50mine': '*', '51mine': '.', '52mine': '.', '53mine': '.', '54mine': '.', '55mine': '*', '56mine': '*', '57mine': '*', '58mine': '.', '60mine': '*', '61mine': '.', '62mine': '*', '63mine': '*', '64mine': '.', '65mine': '.', '66mine': '.', '67mine': '.', '68mine': '*', '70mine': '.', '71mine': '.', '72mine': '*', '73mine': '*', '74mine': '.', '75mine': '.', '76mine': '*', '77mine': '.', '78mine': '*', '80mine': '*', '81mine': '*', '82mine': '.', '83mine': '*', '84mine': '*', '85mine': '.', '86mine': '.', '87mine': '*', '88mine': '.'}\n"
     ]
    }
   ],
   "source": [
    "r = rd.randint(0,1)\n",
    "m = {}\n",
    "for i in range(9):\n",
    "    for k in range(9):\n",
    "        print('.'*(r) or '*'*(not r),end='' )\n",
    "        m[f'{i}{k}mine'] = '.'*(r) or '*'*(not r)\n",
    "        r = rd.randint(0,1)\n",
    "    print()\n",
    "print(m)"
   ]
  },
  {
   "cell_type": "code",
   "execution_count": 84,
   "metadata": {},
   "outputs": [
    {
     "name": "stdout",
     "output_type": "stream",
     "text": [
      "0\n"
     ]
    }
   ],
   "source": [
    "count = 0\n",
    "for i in range(9):\n",
    "    for k in range(9):\n",
    "        print(m[f'{i}{k}mine'])\n",
    "        if i>=1 and i<=8 and k>=1 and k<=7:\n",
    "            if m[f'{i-1}{k-1}mine'] == '*':\n",
    "                count += 1\n",
    "            if m[f'{i}{k-1}mine'] == '*':\n",
    "                count += 1\n",
    "            if m[f'{i+1}{k-1}mine'] == '*':\n",
    "                count += 1\n",
    "            if count == 0:\n",
    "                count = '.'\n",
    "print(count)\n"
   ]
  },
  {
   "cell_type": "code",
   "execution_count": null,
   "metadata": {},
   "outputs": [],
   "source": []
  }
 ],
 "metadata": {
  "kernelspec": {
   "display_name": "Python 3",
   "language": "python",
   "name": "python3"
  },
  "language_info": {
   "codemirror_mode": {
    "name": "ipython",
    "version": 3
   },
   "file_extension": ".py",
   "mimetype": "text/x-python",
   "name": "python",
   "nbconvert_exporter": "python",
   "pygments_lexer": "ipython3",
   "version": "3.8.3"
  }
 },
 "nbformat": 4,
 "nbformat_minor": 4
}
