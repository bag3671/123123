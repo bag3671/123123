{
 "cells": [
  {
   "cell_type": "markdown",
   "metadata": {},
   "source": [
    "## 1번문제"
   ]
  },
  {
   "cell_type": "code",
   "execution_count": 8,
   "metadata": {},
   "outputs": [
    {
     "name": "stdout",
     "output_type": "stream",
     "text": [
      "3\n",
      "3의 제곱의 합은 14 합의 제곱은 36\n"
     ]
    }
   ],
   "source": [
    "n = int(input())\n",
    "def sum_num(n):\n",
    "    sum1 = []\n",
    "    sum2 = []\n",
    "    for i in range(1,n+1):\n",
    "        sum1.append(i)\n",
    "        sum2.append(i*i)\n",
    "    sum1 = sum(sum1)*sum(sum1)\n",
    "    sum2 = sum(sum2)\n",
    "    return sum2,sum1\n",
    "x,y = sum_num(n)\n",
    "print(f'{n}의 제곱의 합은 {x} 합의 제곱은 {y}')"
   ]
  },
  {
   "cell_type": "markdown",
   "metadata": {},
   "source": [
    "## 2번 문제"
   ]
  },
  {
   "cell_type": "code",
   "execution_count": null,
   "metadata": {},
   "outputs": [
    {
     "name": "stdout",
     "output_type": "stream",
     "text": [
      "200 375 425\n"
     ]
    }
   ],
   "source": [
    "for a in range(1,995):\n",
    "    for b in range(2,996):\n",
    "        for c in range(4,998):\n",
    "            if a<b and b<c and a+b>c and a+b+c == 1000 and a*a + b*b == c*c:\n",
    "                print(a,b,c)\n",
    "    "
   ]
  },
  {
   "cell_type": "markdown",
   "metadata": {},
   "source": [
    "## 3번문제"
   ]
  },
  {
   "cell_type": "code",
   "execution_count": 167,
   "metadata": {},
   "outputs": [
    {
     "name": "stdout",
     "output_type": "stream",
     "text": [
      "3이 있는 총 초는 29700초 입니다\n"
     ]
    }
   ],
   "source": [
    "# 시간에 3이 있는 경우 3시 13시 23시 3개\n",
    "def hour_3():\n",
    "    th = []\n",
    "    count_h = 0\n",
    "    for i in range(0,24):\n",
    "        th.append(i)   \n",
    "        if '3' in str(th[i]):\n",
    "            count_h += 1\n",
    "    return count_h\n",
    "# 분에 3이있는경우 30분대,3분 13분 23분 43분 53분 15게\n",
    "def minute_3():\n",
    "    tm = []\n",
    "    count_m = 0\n",
    "    for j in range(0,60):\n",
    "        tm.append(j)\n",
    "        if '3' in str(tm[j]):\n",
    "            count_m += 1\n",
    "    \n",
    "    return count_m\n",
    "totalmin = (60*count_h + (24-count_h)*count_m)\n",
    "total_seconds = totalmin * 60 \n",
    "print(f'3이 있는 총 초는 {total_seconds}초 입니다')"
   ]
  },
  {
   "cell_type": "markdown",
   "metadata": {},
   "source": [
    "## 4번문제"
   ]
  },
  {
   "cell_type": "code",
   "execution_count": 172,
   "metadata": {},
   "outputs": [
    {
     "name": "stdout",
     "output_type": "stream",
     "text": [
      "0 의 갯수는 192\n",
      "1 의 갯수는 301\n",
      "2 의 갯수는 300\n",
      "3 의 갯수는 300\n",
      "4 의 갯수는 300\n",
      "5 의 갯수는 300\n",
      "6 의 갯수는 300\n",
      "7 의 갯수는 300\n",
      "8 의 갯수는 300\n",
      "9 의 갯수는 300\n"
     ]
    }
   ],
   "source": [
    "x = [i for i in range(1,1001)]\n",
    "x = ' '.join(str(x)).strip(''',''[]''').split()\n",
    "for i in range(0,10):\n",
    "    count_i = x.count(f'{i}')\n",
    "    print(i,'의 갯수는',count_i)"
   ]
  },
  {
   "cell_type": "markdown",
   "metadata": {},
   "source": [
    "## 5번문제"
   ]
  },
  {
   "cell_type": "code",
   "execution_count": 145,
   "metadata": {},
   "outputs": [
    {
     "name": "stdout",
     "output_type": "stream",
     "text": [
      "7\n",
      "True\n"
     ]
    }
   ],
   "source": [
    "number = input()\n",
    "def Symmetric_number(num):\n",
    "    num = str(num)\n",
    "    return list(num) == list(reversed(num))\n",
    "print(Symmetric_number(num))\n",
    "    \n",
    "\n",
    "        \n",
    "        "
   ]
  },
  {
   "cell_type": "code",
   "execution_count": 93,
   "metadata": {},
   "outputs": [
    {
     "name": "stdout",
     "output_type": "stream",
     "text": [
      "(995, 583)\n"
     ]
    }
   ],
   "source": [
    "numbers = []\n",
    "for i in range(100,999):\n",
    "    for j in range(100,999):\n",
    "        if Symmetric_number(str(i*j)):\n",
    "            numbers.append((i,j))\n",
    "            numbers\n",
    "print(max(numbers))"
   ]
  }
 ],
 "metadata": {
  "kernelspec": {
   "display_name": "Python 3",
   "language": "python",
   "name": "python3"
  },
  "language_info": {
   "codemirror_mode": {
    "name": "ipython",
    "version": 3
   },
   "file_extension": ".py",
   "mimetype": "text/x-python",
   "name": "python",
   "nbconvert_exporter": "python",
   "pygments_lexer": "ipython3",
   "version": "3.8.3"
  }
 },
 "nbformat": 4,
 "nbformat_minor": 4
}
