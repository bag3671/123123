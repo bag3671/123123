{
 "cells": [
  {
   "cell_type": "code",
   "execution_count": 1,
   "metadata": {},
   "outputs": [],
   "source": [
    "import random as rd\n"
   ]
  },
  {
   "cell_type": "code",
   "execution_count": 33,
   "metadata": {},
   "outputs": [
    {
     "name": "stdout",
     "output_type": "stream",
     "text": [
      "*--*----*\n",
      "-**-**-**\n",
      "------*-*\n",
      "-***--**-\n",
      "****-***-\n",
      "**-*-*---\n",
      "*--**--*-\n",
      "****-*-**\n",
      "*-****--*\n"
     ]
    }
   ],
   "source": [
    "r = rd.randint(0,1)\n",
    "for i in range(9):\n",
    "    for k in range(9):\n",
    "        print('-'*(r) or '*'*(not r),end='' )\n",
    "        r = rd.randint(0,1)\n",
    "    print()"
   ]
  },
  {
   "cell_type": "code",
   "execution_count": 80,
   "metadata": {},
   "outputs": [
    {
     "name": "stdout",
     "output_type": "stream",
     "text": [
      "*.....**.\n",
      "..*......\n",
      "...*....*\n",
      "**...****\n",
      ".*.*.....\n",
      "*....***.\n",
      "*.**....*\n",
      "..**..*.*\n",
      "**.**..*.\n",
      "{'00mine': '*', '01mine': '.', '02mine': '.', '03mine': '.', '04mine': '.', '05mine': '.', '06mine': '*', '07mine': '*', '08mine': '.', '10mine': '.', '11mine': '.', '12mine': '*', '13mine': '.', '14mine': '.', '15mine': '.', '16mine': '.', '17mine': '.', '18mine': '.', '20mine': '.', '21mine': '.', '22mine': '.', '23mine': '*', '24mine': '.', '25mine': '.', '26mine': '.', '27mine': '.', '28mine': '*', '30mine': '*', '31mine': '*', '32mine': '.', '33mine': '.', '34mine': '.', '35mine': '*', '36mine': '*', '37mine': '*', '38mine': '*', '40mine': '.', '41mine': '*', '42mine': '.', '43mine': '*', '44mine': '.', '45mine': '.', '46mine': '.', '47mine': '.', '48mine': '.', '50mine': '*', '51mine': '.', '52mine': '.', '53mine': '.', '54mine': '.', '55mine': '*', '56mine': '*', '57mine': '*', '58mine': '.', '60mine': '*', '61mine': '.', '62mine': '*', '63mine': '*', '64mine': '.', '65mine': '.', '66mine': '.', '67mine': '.', '68mine': '*', '70mine': '.', '71mine': '.', '72mine': '*', '73mine': '*', '74mine': '.', '75mine': '.', '76mine': '*', '77mine': '.', '78mine': '*', '80mine': '*', '81mine': '*', '82mine': '.', '83mine': '*', '84mine': '*', '85mine': '.', '86mine': '.', '87mine': '*', '88mine': '.'}\n"
     ]
    }
   ],
   "source": [
    "r = rd.randint(0,1)\n",
    "m = {}\n",
    "for i in range(9):\n",
    "    for k in range(9):\n",
    "        print('.'*(r) or '*'*(not r),end='' )\n",
    "        m[f'{i}{k}mine'] = '.'*(r) or '*'*(not r)\n",
    "        r = rd.randint(0,1)\n",
    "    print()\n",
    "print(m)"
   ]
  },
  {
   "cell_type": "code",
   "execution_count": 133,
   "metadata": {
    "scrolled": true
   },
   "outputs": [
    {
     "name": "stdout",
     "output_type": "stream",
     "text": [
      "           \n",
      " .*.**.*.* \n",
      " **..*.*** \n",
      " ****..*.. \n",
      " .*..****. \n",
      " ..**....* \n",
      " ****.*.*. \n",
      " *******.. \n",
      " ..***..** \n",
      " **.***.** \n",
      "           \n"
     ]
    }
   ],
   "source": [
    "r = rd.randint(0,1)\n",
    "m = {}\n",
    "for i in range(11):\n",
    "    for k in range(11):\n",
    "        m[f'{i}{k}mine'] = '.'*(r) or '*'*(not r)\n",
    "        m[f'{0}{k}mine'] = ' '\n",
    "        m[f'{10}{k}mine'] = ' '\n",
    "        m[f'{i}{0}mine'] = ' '\n",
    "        m[f'{i}{10}mine'] = ' '\n",
    "        print(count*(m[f'{i}{k}mine']=='.') or m[f'{i}{k}mine'],end='')\n",
    "        r = rd.randint(0,1)\n",
    "    print()\n"
   ]
  },
  {
   "cell_type": "code",
   "execution_count": 134,
   "metadata": {},
   "outputs": [
    {
     "name": "stdout",
     "output_type": "stream",
     "text": [
      "           \n",
      " 3*3**4*5* \n",
      " **65*5*** \n",
      " ****46*63 \n",
      " 3*65****2 \n",
      " 35**5454* \n",
      " ****6*4*2 \n",
      " *******43 \n",
      " 46***65** \n",
      " **4***3** \n",
      "           \n"
     ]
    }
   ],
   "source": [
    "count = 0\n",
    "for i in range(11):\n",
    "    for k in range(11):\n",
    "        if i>=1 and i<=9 and k>=1 and k<=9:\n",
    "            if m[f'{i-1}{k-1}mine'] == '*':\n",
    "                count += 1\n",
    "            if m[f'{i}{k-1}mine'] == '*':\n",
    "                count += 1\n",
    "            if m[f'{i+1}{k-1}mine'] == '*':\n",
    "                count += 1\n",
    "            if m[f'{i-1}{k}mine'] == '*':\n",
    "                count += 1\n",
    "            if m[f'{i}{k}mine'] == '*':\n",
    "                count += 1\n",
    "            if m[f'{i+1}{k}mine'] == '*':\n",
    "                count += 1\n",
    "            if m[f'{i-1}{k+1}mine'] == '*':\n",
    "                count += 1\n",
    "            if m[f'{i}{k+1}mine'] == '*':\n",
    "                count += 1\n",
    "            if m[f'{i+1}{k+1}mine'] == '*':\n",
    "                count += 1\n",
    "            if count == 0:\n",
    "                count = '.'\n",
    "        print(count*(m[f'{i}{k}mine']=='.') or m[f'{i}{k}mine'],end='')\n",
    "        count = 0\n",
    "    print()\n",
    "\n",
    "\n"
   ]
  },
  {
   "cell_type": "code",
   "execution_count": 135,
   "metadata": {},
   "outputs": [
    {
     "name": "stdout",
     "output_type": "stream",
     "text": [
      "           \n",
      " 3*3**4*5* \n",
      " **65*5*** \n",
      " ****46*63 \n",
      " 3*65****2 \n",
      " 35**5454* \n",
      " ****6*4*2 \n",
      " *******43 \n",
      " 46***65** \n",
      " **4***3** \n",
      "           \n"
     ]
    }
   ],
   "source": [
    "count = 0\n",
    "for i in range(11):\n",
    "    for k in range(11):\n",
    "        if i>=1 and i<=9 and k>=1 and k<=9:\n",
    "            for e in range(i-1,i+2):\n",
    "                for r in range(k-1,k+2):\n",
    "                    if m[f'{e}{r}mine'] == '*':\n",
    "                        count += 1\n",
    "            if count == 0:\n",
    "                count = '.'\n",
    "        print(count*(m[f'{i}{k}mine']=='.') or m[f'{i}{k}mine'],end='')\n",
    "        count = 0\n",
    "    print()\n"
   ]
  },
  {
   "cell_type": "code",
   "execution_count": 137,
   "metadata": {},
   "outputs": [
    {
     "name": "stdout",
     "output_type": "stream",
     "text": [
      "3*3**4*5*\n",
      "**65*5***\n",
      "****46*63\n",
      "3*65****2\n",
      "35**5454*\n",
      "****6*4*2\n",
      "*******43\n",
      "46***65**\n",
      "**4***3**\n"
     ]
    }
   ],
   "source": [
    "count = 0\n",
    "for i in range(1,10):\n",
    "    for k in range(1,10):\n",
    "        for e in range(i-1,i+2):\n",
    "            for r in range(k-1,k+2):\n",
    "                if m[f'{e}{r}mine'] == '*':\n",
    "                    count += 1\n",
    "        if count == 0:\n",
    "            count = '.'\n",
    "        print(count*(m[f'{i}{k}mine']=='.') or m[f'{i}{k}mine'],end='')\n",
    "        count = 0\n",
    "    print()"
   ]
  },
  {
   "cell_type": "code",
   "execution_count": 1,
   "metadata": {},
   "outputs": [
    {
     "name": "stdout",
     "output_type": "stream",
     "text": [
      "10 20\n",
      "[1024, 2048, 4096, 8192, 16384, 32768, 65536, 131072, 262144, 524288, 1048576]\n"
     ]
    }
   ],
   "source": [
    "x, y = map(int,input().split())\n",
    "z = list(2**i for i in range(x,y+1))\n",
    "z.pop(1), z.pop(-2)\n",
    "print(z)\n"
   ]
  },
  {
   "cell_type": "code",
   "execution_count": 9,
   "metadata": {},
   "outputs": [
    {
     "name": "stdout",
     "output_type": "stream",
     "text": [
      "3 3 \n",
      "*..\n",
      "**.\n",
      "...\n",
      "[['*', '.', '.'], ['*', '*', '.'], ['.', '.', '.']]\n"
     ]
    }
   ],
   "source": [
    "row,col = map(int,input().split())\n",
    "matrix = []\n",
    "for i in range(row):\n",
    "    matrix.append(list(input()))\n",
    "print(matrix)"
   ]
  },
  {
   "cell_type": "code",
   "execution_count": 18,
   "metadata": {},
   "outputs": [
    {
     "name": "stdout",
     "output_type": "stream",
     "text": [
      "the grown-ups' response, this time, was to advise me to lay aside my drawings of boa constrictors, whether from the inside or the outside, and devote myself instead to geography, history, arithmetic, and grammar. That is why, at the, age of six, I gave up what might have been a magnificent career as a painter. I had been disheartened by the failure of my Drawing Number One and my Drawing Number Two. Grown-ups never understand anything by themselves, and it is tiresome for children to be always and forever explaining things to the.\n"
     ]
    }
   ],
   "source": [
    "k = input()\n"
   ]
  },
  {
   "cell_type": "code",
   "execution_count": 21,
   "metadata": {},
   "outputs": [
    {
     "name": "stdout",
     "output_type": "stream",
     "text": [
      "6\n"
     ]
    }
   ],
   "source": [
    "words=k.split(' ')\n",
    "count = 0\n",
    "for word in words:\n",
    "    if word.strip(',.') == 'the':\n",
    "        count += 1\n",
    "print(count)\n",
    "\n"
   ]
  },
  {
   "cell_type": "code",
   "execution_count": 78,
   "metadata": {},
   "outputs": [
    {
     "name": "stdout",
     "output_type": "stream",
     "text": [
      "51900;83000;158000;367500;250000;59200;128500;1304000\n",
      "[1304000, 367500, 250000, 158000, 128500, 83000, 59200, 51900]\n"
     ]
    }
   ],
   "source": [
    "k = list(map(int,input().split(';')))\n",
    "k.sort(reverse=True)\n",
    "print(k)\n"
   ]
  },
  {
   "cell_type": "code",
   "execution_count": 92,
   "metadata": {},
   "outputs": [
    {
     "name": "stdout",
     "output_type": "stream",
     "text": [
      "1,304,000\n",
      "  367,500\n",
      "  250,000\n",
      "  158,000\n",
      "  128,500\n",
      "   83,000\n",
      "   59,200\n",
      "   51,900\n"
     ]
    }
   ],
   "source": [
    "for i in k:\n",
    "    i = str(format(i,',')).rjust(9)\n",
    "    print(i)\n",
    "\n"
   ]
  },
  {
   "cell_type": "code",
   "execution_count": 8,
   "metadata": {},
   "outputs": [
    {
     "name": "stdout",
     "output_type": "stream",
     "text": [
      "alpha bravo charlie delta echo foxtrot golf\n",
      "30 40 50 60 70 80 90\n"
     ]
    }
   ],
   "source": [
    "keys = input().split()\n",
    "values = map(int, input().split())\n",
    " \n",
    "x = dict(zip(keys, values))"
   ]
  },
  {
   "cell_type": "code",
   "execution_count": 15,
   "metadata": {},
   "outputs": [
    {
     "data": {
      "text/plain": [
       "dict_items([('alpha', 30), ('bravo', 40), ('charlie', 50), ('delta', 60), ('echo', 70), ('foxtrot', 80), ('golf', 90)])"
      ]
     },
     "execution_count": 15,
     "metadata": {},
     "output_type": "execute_result"
    }
   ],
   "source": [
    "x.items()"
   ]
  },
  {
   "cell_type": "code",
   "execution_count": 16,
   "metadata": {},
   "outputs": [],
   "source": [
    "x = {key:value for key,value in x.items() if (key != 'delta' and value != 30)}"
   ]
  },
  {
   "cell_type": "code",
   "execution_count": 17,
   "metadata": {},
   "outputs": [
    {
     "name": "stdout",
     "output_type": "stream",
     "text": [
      "{'bravo': 40, 'charlie': 50, 'echo': 70, 'foxtrot': 80, 'golf': 90}\n"
     ]
    }
   ],
   "source": [
    "print(x)"
   ]
  },
  {
   "cell_type": "code",
   "execution_count": 2,
   "metadata": {},
   "outputs": [],
   "source": [
    "love = '''Love me tender, love me sweet\n",
    "Never let me go\n",
    "You have made my life complete\n",
    "And I love you so\n",
    "Love me tender, love me true\n",
    "All my dreams fulfill\n",
    "For my darling I love you\n",
    "And I always will\n",
    "Love me tender, love me long\n",
    "Take me to your heart\n",
    "For it's there that I belong\n",
    "And will never part\n",
    "Love me tender, love me true\n",
    "All my dreams fulfill\n",
    "For my darling I love you\n",
    "And I always will\n",
    "Love me tender, love me dear\n",
    "Tell me you are mine\n",
    "I'll be yours through all the years\n",
    "'Til the end of time\n",
    "Love me tender, love me true\n",
    "All my dreams fulfill\n",
    "For my darling I love you\n",
    "And I always will'''\n"
   ]
  },
  {
   "cell_type": "code",
   "execution_count": 3,
   "metadata": {},
   "outputs": [
    {
     "name": "stdout",
     "output_type": "stream",
     "text": [
      "['love', 'me', 'tender,', 'love', 'me', 'sweet', 'never', 'let', 'me', 'go', 'you', 'have', 'made', 'my', 'life', 'complete', 'and', 'i', 'love', 'you', 'so', 'love', 'me', 'tender,', 'love', 'me', 'true', 'all', 'my', 'dreams', 'fulfill', 'for', 'my', 'darling', 'i', 'love', 'you', 'and', 'i', 'always', 'will', 'love', 'me', 'tender,', 'love', 'me', 'long', 'take', 'me', 'to', 'your', 'heart', 'for', \"it's\", 'there', 'that', 'i', 'belong', 'and', 'will', 'never', 'part', 'love', 'me', 'tender,', 'love', 'me', 'true', 'all', 'my', 'dreams', 'fulfill', 'for', 'my', 'darling', 'i', 'love', 'you', 'and', 'i', 'always', 'will', 'love', 'me', 'tender,', 'love', 'me', 'dear', 'tell', 'me', 'you', 'are', 'mine', \"i'll\", 'be', 'yours', 'through', 'all', 'the', 'years', \"'til\", 'the', 'end', 'of', 'time', 'love', 'me', 'tender,', 'love', 'me', 'true', 'all', 'my', 'dreams', 'fulfill', 'for', 'my', 'darling', 'i', 'love', 'you', 'and', 'i', 'always', 'will']\n"
     ]
    }
   ],
   "source": [
    "love2 = love.strip('.,').lower().replace('\\n',' ').split(' ')\n",
    "print(love2)"
   ]
  },
  {
   "cell_type": "code",
   "execution_count": 4,
   "metadata": {},
   "outputs": [
    {
     "name": "stdout",
     "output_type": "stream",
     "text": [
      "{'love': 16, 'me': 15, 'tender,': 6, 'sweet': 1, 'never': 2, 'let': 1, 'go': 1, 'you': 6, 'have': 1, 'made': 1, 'my': 7, 'life': 1, 'complete': 1, 'and': 5, 'i': 8, 'so': 1, 'true': 3, 'all': 4, 'dreams': 3, 'fulfill': 3, 'for': 4, 'darling': 3, 'always': 3, 'will': 4, 'long': 1, 'take': 1, 'to': 1, 'your': 1, 'heart': 1, \"it's\": 1, 'there': 1, 'that': 1, 'belong': 1, 'part': 1, 'dear': 1, 'tell': 1, 'are': 1, 'mine': 1, \"i'll\": 1, 'be': 1, 'yours': 1, 'through': 1, 'the': 2, 'years': 1, \"'til\": 1, 'end': 1, 'of': 1, 'time': 1}\n"
     ]
    }
   ],
   "source": [
    "love4 = {love2[i]:love2.count(love2[i]) for i in range(len(love2))}\n",
    "print(love4)"
   ]
  },
  {
   "cell_type": "code",
   "execution_count": 10,
   "metadata": {},
   "outputs": [
    {
     "name": "stdout",
     "output_type": "stream",
     "text": [
      "('love', 16) ('me', 15) ('i', 8) ('my', 7) ('tender,', 6) ('you', 6) ('and', 5) ('all', 4) ('for', 4) ('will', 4) "
     ]
    }
   ],
   "source": [
    "import operator\n",
    "love5 = sorted(love4.items(),key=operator.itemgetter(1),reverse=True)\n",
    "for i in range(len(love5)):\n",
    "    print(love5[i], end=' ')\n",
    "    if i == 9:\n",
    "        break;"
   ]
  },
  {
   "cell_type": "code",
   "execution_count": 11,
   "metadata": {},
   "outputs": [
    {
     "name": "stdout",
     "output_type": "stream",
     "text": [
      "Fortunately, however, for the reputation of Asteroid B-612, a Turkish dictator made a law that his subjects, under pain of death, should change to European costume. So in 1920 the astronomer gave his demonstration all over again, dressed with impressive style and elegance. And this time everybody accepted his report.\n"
     ]
    }
   ],
   "source": [
    "k = input()\n",
    "with open('words.txt','w') as file:\n",
    "    file.write(k)"
   ]
  },
  {
   "cell_type": "code",
   "execution_count": 16,
   "metadata": {},
   "outputs": [
    {
     "name": "stdout",
     "output_type": "stream",
     "text": [
      "Fortunately, however, for the reputation of Asteroid B-612, a Turkish dictator made a law that his subjects, under pain of death, should change to European costume. So in 1920 the astronomer gave his demonstration all over again, dressed with impressive style and elegance. And this time everybody accepted his report.\n"
     ]
    }
   ],
   "source": [
    "with open('words.txt','r') as file:\n",
    "    words = file.read()\n",
    "    print(words)"
   ]
  },
  {
   "cell_type": "code",
   "execution_count": 17,
   "metadata": {},
   "outputs": [],
   "source": [
    "words = words.split(' ')"
   ]
  },
  {
   "cell_type": "code",
   "execution_count": 25,
   "metadata": {},
   "outputs": [
    {
     "name": "stdout",
     "output_type": "stream",
     "text": [
      "dictator\n",
      "subjects,\n",
      "change\n",
      "costume.\n",
      "elegance.\n",
      "accepted\n"
     ]
    }
   ],
   "source": [
    "words = [word for word in words if 'c' in word ]\n",
    "for i in range(len(words)):\n",
    "    print(words[i])\n",
    "#print(words[i] for i in range(len(words)))\n",
    "#print(range(len(words)))"
   ]
  },
  {
   "cell_type": "code",
   "execution_count": 26,
   "metadata": {},
   "outputs": [
    {
     "name": "stdout",
     "output_type": "stream",
     "text": [
      "dictator\n",
      "subjects,\n",
      "change\n",
      "costume.\n",
      "elegance.\n",
      "accepted\n"
     ]
    }
   ],
   "source": [
    "with open('words.txt','r') as file:\n",
    "    words = file.read().split(' ')\n",
    "    words = [word for word in words if 'c' in word ]\n",
    "    for i in range(len(words)):\n",
    "        print(words[i].strip(',.'))"
   ]
  },
  {
   "cell_type": "code",
   "execution_count": 40,
   "metadata": {},
   "outputs": [],
   "source": [
    "def get_min_max_score(*args):\n",
    "    max_score = max(args)\n",
    "    min_score = min(args)\n",
    "    return min_score,max_score\n",
    "def get_average(**kwargs):\n",
    "    average_score = sum(kwargs.values())/len(kwargs)\n",
    "    return average_score"
   ]
  },
  {
   "cell_type": "code",
   "execution_count": 41,
   "metadata": {},
   "outputs": [
    {
     "name": "stdout",
     "output_type": "stream",
     "text": [
      "89 92 73 83\n",
      "낮은 점수: 73.00, 높은 점수: 92.00, 평균 점수: 84.25\n",
      "낮은 점수: 83.00, 높은 점수: 92.00, 평균 점수: 87.50\n"
     ]
    }
   ],
   "source": [
    "korean, english, mathematics, science = map(int, input().split())\n",
    "min_score, max_score = get_min_max_score(korean, english, mathematics, science)\n",
    "average_score = get_average(korean=korean, english=english,\n",
    "                            mathematics=mathematics, science=science)\n",
    "print('낮은 점수: {0:.2f}, 높은 점수: {1:.2f}, 평균 점수: {2:.2f}'\n",
    "      .format(min_score, max_score, average_score))\n",
    " \n",
    "min_score, max_score = get_min_max_score(english, science)\n",
    "average_score = get_average(english=english, science=science)\n",
    "print('낮은 점수: {0:.2f}, 높은 점수: {1:.2f}, 평균 점수: {2:.2f}'\n",
    "      .format(min_score, max_score, average_score))"
   ]
  },
  {
   "cell_type": "code",
   "execution_count": 1,
   "metadata": {},
   "outputs": [
    {
     "data": {
      "text/plain": [
       "5"
      ]
     },
     "execution_count": 1,
     "metadata": {},
     "output_type": "execute_result"
    }
   ],
   "source": [
    "len('1.jpg')"
   ]
  },
  {
   "cell_type": "code",
   "execution_count": 21,
   "metadata": {},
   "outputs": [
    {
     "name": "stdout",
     "output_type": "stream",
     "text": [
      "97.xlsx 98.docx 99.docx 100.xlsx 101.docx 102.docx\n",
      "['97.xlsx', '98.docx', '99.docx', '100.xlsx', '101.docx', '102.docx']\n"
     ]
    }
   ],
   "source": [
    "files = input().split()\n",
    "print(list(map(lambda x:'00'+x if len(x) == 5 else '0'+x if len(x) == 6 else x ,files)))"
   ]
  },
  {
   "cell_type": "code",
   "execution_count": 3,
   "metadata": {},
   "outputs": [],
   "source": [
    "class Annie:\n",
    "    def __init__(self,health,mana,ability_power):\n",
    "        self.health = health\n",
    "        self.mana = mana\n",
    "        self.ability_power = ability_power\n",
    "    def tibbers(self):\n",
    "        print(f'티버: 피해량 {self.ability_power*0.65+400}' )\n",
    "        \n",
    "        "
   ]
  },
  {
   "cell_type": "code",
   "execution_count": 5,
   "metadata": {},
   "outputs": [
    {
     "name": "stdout",
     "output_type": "stream",
     "text": [
      "1803.68 1184.0 645\n",
      "티버: 피해량 819.25\n"
     ]
    }
   ],
   "source": [
    "health, mana, ability_power = map(float, input().split())\n",
    " \n",
    "x = Annie(health=health, mana=mana, ability_power=ability_power)\n",
    "x.tibbers()"
   ]
  },
  {
   "cell_type": "code",
   "execution_count": null,
   "metadata": {},
   "outputs": [],
   "source": [
    "def is_time_valid(self,x):\n",
    "    x=list(x.split(':'))\n",
    "    return x[0]=24 and x[1] <60 and x[2] <= 60 \n",
    "def from_string(self,x):\n",
    "    \n",
    "    \n",
    "    \n"
   ]
  },
  {
   "cell_type": "code",
   "execution_count": 120,
   "metadata": {},
   "outputs": [
    {
     "name": "stdout",
     "output_type": "stream",
     "text": [
      "23:35:59\n"
     ]
    }
   ],
   "source": [
    "time_string = input()"
   ]
  },
  {
   "cell_type": "code",
   "execution_count": 121,
   "metadata": {},
   "outputs": [],
   "source": [
    "class Time:\n",
    "    def __init__(self, hour, minute, second):\n",
    "        self.hour = hour\n",
    "        self.minute = minute\n",
    "        self.second = second\n",
    "    @staticmethod\n",
    "    def is_time_valid(strValue):\n",
    "        strValueSplit = strValue.split(':')\n",
    "        return 0 <= int(strValueSplit[0]) <= 23 and 0 <= int(strValueSplit[1]) <= 59 and 0 <= int(strValueSplit[2]) <= 59\n",
    "    @classmethod\n",
    "    def from_string(cls, strValue):\n",
    "        strValueSplit = strValue.split(':')\n",
    "        return cls(int(strValueSplit[0]),int(strValueSplit[1]),int(strValueSplit[2]))"
   ]
  },
  {
   "cell_type": "code",
   "execution_count": 122,
   "metadata": {},
   "outputs": [
    {
     "name": "stdout",
     "output_type": "stream",
     "text": [
      "23 35 59\n"
     ]
    }
   ],
   "source": [
    "if Time.is_time_valid(time_string):\n",
    "    t = Time.from_string(time_string)\n",
    "    print(t.hour, t.minute, t.second)\n",
    "else:\n",
    "    print('잘못된 시간 형식입니다.')"
   ]
  },
  {
   "cell_type": "code",
   "execution_count": 112,
   "metadata": {},
   "outputs": [],
   "source": [
    "k = Time(1,2,3)"
   ]
  },
  {
   "cell_type": "code",
   "execution_count": 113,
   "metadata": {},
   "outputs": [
    {
     "name": "stdout",
     "output_type": "stream",
     "text": [
      "True\n"
     ]
    }
   ],
   "source": [
    "print(k.is_time_valid(time_string))"
   ]
  },
  {
   "cell_type": "code",
   "execution_count": 114,
   "metadata": {},
   "outputs": [
    {
     "ename": "TypeError",
     "evalue": "'Time' object is not callable",
     "output_type": "error",
     "traceback": [
      "\u001b[1;31m---------------------------------------------------------------------------\u001b[0m",
      "\u001b[1;31mTypeError\u001b[0m                                 Traceback (most recent call last)",
      "\u001b[1;32m<ipython-input-114-fab3f198ea75>\u001b[0m in \u001b[0;36m<module>\u001b[1;34m\u001b[0m\n\u001b[0;32m      1\u001b[0m \u001b[1;32mif\u001b[0m \u001b[0mk\u001b[0m\u001b[1;33m.\u001b[0m\u001b[0mis_time_valid\u001b[0m\u001b[1;33m(\u001b[0m\u001b[0mtime_string\u001b[0m\u001b[1;33m)\u001b[0m\u001b[1;33m:\u001b[0m\u001b[1;33m\u001b[0m\u001b[1;33m\u001b[0m\u001b[0m\n\u001b[1;32m----> 2\u001b[1;33m     \u001b[0mt\u001b[0m \u001b[1;33m=\u001b[0m \u001b[0mk\u001b[0m\u001b[1;33m.\u001b[0m\u001b[0mfrom_string\u001b[0m\u001b[1;33m(\u001b[0m\u001b[0mtime_string\u001b[0m\u001b[1;33m)\u001b[0m\u001b[1;33m\u001b[0m\u001b[1;33m\u001b[0m\u001b[0m\n\u001b[0m\u001b[0;32m      3\u001b[0m     \u001b[0mprint\u001b[0m\u001b[1;33m(\u001b[0m\u001b[0mt\u001b[0m\u001b[1;33m.\u001b[0m\u001b[0mhour\u001b[0m\u001b[1;33m,\u001b[0m \u001b[0mt\u001b[0m\u001b[1;33m.\u001b[0m\u001b[0mminute\u001b[0m\u001b[1;33m,\u001b[0m \u001b[0mt\u001b[0m\u001b[1;33m.\u001b[0m\u001b[0msecond\u001b[0m\u001b[1;33m)\u001b[0m\u001b[1;33m\u001b[0m\u001b[1;33m\u001b[0m\u001b[0m\n\u001b[0;32m      4\u001b[0m \u001b[1;32melse\u001b[0m\u001b[1;33m:\u001b[0m\u001b[1;33m\u001b[0m\u001b[1;33m\u001b[0m\u001b[0m\n\u001b[0;32m      5\u001b[0m     \u001b[0mprint\u001b[0m\u001b[1;33m(\u001b[0m\u001b[1;34m'잘못된 시간 형식입니다.'\u001b[0m\u001b[1;33m)\u001b[0m\u001b[1;33m\u001b[0m\u001b[1;33m\u001b[0m\u001b[0m\n",
      "\u001b[1;32m<ipython-input-107-659ec1f4af02>\u001b[0m in \u001b[0;36mfrom_string\u001b[1;34m(self, x)\u001b[0m\n\u001b[0;32m     10\u001b[0m     \u001b[1;32mdef\u001b[0m \u001b[0mfrom_string\u001b[0m\u001b[1;33m(\u001b[0m\u001b[0mself\u001b[0m\u001b[1;33m,\u001b[0m\u001b[0mx\u001b[0m\u001b[1;33m)\u001b[0m\u001b[1;33m:\u001b[0m\u001b[1;33m\u001b[0m\u001b[1;33m\u001b[0m\u001b[0m\n\u001b[0;32m     11\u001b[0m         \u001b[0mhour\u001b[0m\u001b[1;33m,\u001b[0m \u001b[0mminute\u001b[0m\u001b[1;33m,\u001b[0m \u001b[0msecond\u001b[0m \u001b[1;33m=\u001b[0m \u001b[0mmap\u001b[0m\u001b[1;33m(\u001b[0m\u001b[0mint\u001b[0m\u001b[1;33m,\u001b[0m\u001b[0mx\u001b[0m\u001b[1;33m.\u001b[0m\u001b[0msplit\u001b[0m\u001b[1;33m(\u001b[0m\u001b[1;34m':'\u001b[0m\u001b[1;33m)\u001b[0m\u001b[1;33m)\u001b[0m\u001b[1;33m\u001b[0m\u001b[1;33m\u001b[0m\u001b[0m\n\u001b[1;32m---> 12\u001b[1;33m         \u001b[0mtime\u001b[0m \u001b[1;33m=\u001b[0m \u001b[0mself\u001b[0m\u001b[1;33m(\u001b[0m\u001b[0mhour\u001b[0m\u001b[1;33m,\u001b[0m \u001b[0mminute\u001b[0m\u001b[1;33m,\u001b[0m \u001b[0msecond\u001b[0m\u001b[1;33m)\u001b[0m\u001b[1;33m\u001b[0m\u001b[1;33m\u001b[0m\u001b[0m\n\u001b[0m\u001b[0;32m     13\u001b[0m         \u001b[1;32mreturn\u001b[0m \u001b[0mtime\u001b[0m\u001b[1;33m\u001b[0m\u001b[1;33m\u001b[0m\u001b[0m\n",
      "\u001b[1;31mTypeError\u001b[0m: 'Time' object is not callable"
     ]
    }
   ],
   "source": [
    "if k.is_time_valid(time_string):\n",
    "    t = k.from_string(time_string)\n",
    "    print(t.hour, t.minute, t.second)\n",
    "else:\n",
    "    print('잘못된 시간 형식입니다.')"
   ]
  },
  {
   "cell_type": "code",
   "execution_count": 123,
   "metadata": {},
   "outputs": [
    {
     "data": {
      "text/plain": [
       "7"
      ]
     },
     "execution_count": 123,
     "metadata": {},
     "output_type": "execute_result"
    }
   ],
   "source": [
    "def add(x,y):\n",
    "  return (x+y)\n",
    "\n",
    "add(3,4)"
   ]
  },
  {
   "cell_type": "code",
   "execution_count": 3,
   "metadata": {},
   "outputs": [
    {
     "output_type": "error",
     "ename": "SyntaxError",
     "evalue": "invalid syntax (<ipython-input-3-932fb84d9614>, line 3)",
     "traceback": [
      "\u001b[1;36m  File \u001b[1;32m\"<ipython-input-3-932fb84d9614>\"\u001b[1;36m, line \u001b[1;32m3\u001b[0m\n\u001b[1;33m    print(y[index] / x)\u001b[0m\n\u001b[1;37m    ^\u001b[0m\n\u001b[1;31mSyntaxError\u001b[0m\u001b[1;31m:\u001b[0m invalid syntax\n"
     ]
    }
   ],
   "source": [
    "try:\n",
    "    index, x = map(int,input('인덱스와 나눌 숫자를 입력하세요 : '.split())\n",
    "    print(y[index] / x)\n",
    "except ZeroDivisionError: \n",
    "    print('숫자를 0으로 나눌 수 없습니다')\n",
    "except IndexError:\n",
    "    print('잘못된 인덱스 입니다.')"
   ]
  },
  {
   "cell_type": "code",
   "execution_count": 12,
   "metadata": {},
   "outputs": [
    {
     "output_type": "stream",
     "name": "stdout",
     "text": [
      "회문이 아닙니다\n"
     ]
    }
   ],
   "source": [
    "class NotPalindromeError(Exception):\n",
    "    def __init__(self):\n",
    "        super().__init__('회문이 아닙니다.')\n",
    "def palindRome(word):\n",
    "    if word == word[::-1]:\n",
    "        print(word)\n",
    "    else:\n",
    "        raise NotPalindromeError\n",
    "\n",
    "try:\n",
    "    word = input()\n",
    "    palindRome(word)\n",
    "except NotPalindromeError as e:\n",
    "    print(e)"
   ]
  },
  {
   "cell_type": "code",
   "execution_count": 13,
   "metadata": {},
   "outputs": [],
   "source": [
    "l = [1,2,3]"
   ]
  },
  {
   "cell_type": "code",
   "execution_count": 14,
   "metadata": {},
   "outputs": [
    {
     "output_type": "stream",
     "name": "stdout",
     "text": [
      "['__add__', '__class__', '__contains__', '__delattr__', '__delitem__', '__dir__', '__doc__', '__eq__', '__format__', '__ge__', '__getattribute__', '__getitem__', '__gt__', '__hash__', '__iadd__', '__imul__', '__init__', '__init_subclass__', '__iter__', '__le__', '__len__', '__lt__', '__mul__', '__ne__', '__new__', '__reduce__', '__reduce_ex__', '__repr__', '__reversed__', '__rmul__', '__setattr__', '__setitem__', '__sizeof__', '__str__', '__subclasshook__', 'append', 'clear', 'copy', 'count', 'extend', 'index', 'insert', 'pop', 'remove', 'reverse', 'sort']\n"
     ]
    }
   ],
   "source": [
    "print(dir(l))"
   ]
  },
  {
   "cell_type": "code",
   "execution_count": 15,
   "metadata": {},
   "outputs": [
    {
     "output_type": "stream",
     "name": "stdout",
     "text": [
      "['__class__', '__contains__', '__delattr__', '__delitem__', '__dir__', '__doc__', '__eq__', '__format__', '__ge__', '__getattribute__', '__getitem__', '__gt__', '__hash__', '__init__', '__init_subclass__', '__iter__', '__le__', '__len__', '__lt__', '__ne__', '__new__', '__reduce__', '__reduce_ex__', '__repr__', '__reversed__', '__setattr__', '__setitem__', '__sizeof__', '__str__', '__subclasshook__', 'clear', 'copy', 'fromkeys', 'get', 'items', 'keys', 'pop', 'popitem', 'setdefault', 'update', 'values']\n"
     ]
    }
   ],
   "source": [
    "print(dir({1:100,2:300}))"
   ]
  },
  {
   "cell_type": "code",
   "execution_count": 29,
   "metadata": {},
   "outputs": [
    {
     "output_type": "stream",
     "name": "stdout",
     "text": [
      "['__class__', '__delattr__', '__dir__', '__doc__', '__eq__', '__format__', '__ge__', '__getattribute__', '__gt__', '__hash__', '__init__', '__init_subclass__', '__iter__', '__le__', '__length_hint__', '__lt__', '__ne__', '__new__', '__next__', '__reduce__', '__reduce_ex__', '__repr__', '__setattr__', '__setstate__', '__sizeof__', '__str__', '__subclasshook__']\n"
     ]
    }
   ],
   "source": [
    "next = l.__iter__()\n",
    "print(dir(next))"
   ]
  },
  {
   "cell_type": "code",
   "execution_count": 33,
   "metadata": {},
   "outputs": [],
   "source": [
    "try:\n",
    "    print(next.__next__())\n",
    "except StopIteration:\n",
    "    pass"
   ]
  },
  {
   "source": [
    "print(dir(l))"
   ],
   "cell_type": "code",
   "metadata": {},
   "execution_count": 35,
   "outputs": [
    {
     "output_type": "stream",
     "name": "stdout",
     "text": [
      "['__add__', '__class__', '__contains__', '__delattr__', '__delitem__', '__dir__', '__doc__', '__eq__', '__format__', '__ge__', '__getattribute__', '__getitem__', '__gt__', '__hash__', '__iadd__', '__imul__', '__init__', '__init_subclass__', '__iter__', '__le__', '__len__', '__lt__', '__mul__', '__ne__', '__new__', '__reduce__', '__reduce_ex__', '__repr__', '__reversed__', '__rmul__', '__setattr__', '__setitem__', '__sizeof__', '__str__', '__subclasshook__', 'append', 'clear', 'copy', 'count', 'extend', 'index', 'insert', 'pop', 'remove', 'reverse', 'sort']\n"
     ]
    }
   ]
  },
  {
   "cell_type": "code",
   "execution_count": 38,
   "metadata": {},
   "outputs": [
    {
     "output_type": "stream",
     "name": "stdout",
     "text": [
      "19.634954084936208\n"
     ]
    }
   ],
   "source": [
    "from math import * \n",
    "r = float(input())\n",
    "print(r*r*pi)\n"
   ]
  },
  {
   "cell_type": "code",
   "execution_count": null,
   "metadata": {},
   "outputs": [],
   "source": []
  }
 ],
 "metadata": {
  "kernelspec": {
   "display_name": "Python 3",
   "language": "python",
   "name": "python3"
  },
  "language_info": {
   "codemirror_mode": {
    "name": "ipython",
    "version": 3
   },
   "file_extension": ".py",
   "mimetype": "text/x-python",
   "name": "python",
   "nbconvert_exporter": "python",
   "pygments_lexer": "ipython3",
   "version": "3.8.3-final"
  }
 },
 "nbformat": 4,
 "nbformat_minor": 4
}