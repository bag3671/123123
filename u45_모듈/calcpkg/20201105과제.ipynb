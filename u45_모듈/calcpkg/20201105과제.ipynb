{
 "metadata": {
  "language_info": {
   "codemirror_mode": {
    "name": "ipython",
    "version": 3
   },
   "file_extension": ".py",
   "mimetype": "text/x-python",
   "name": "python",
   "nbconvert_exporter": "python",
   "pygments_lexer": "ipython3",
   "version": "3.8.3-final"
  },
  "orig_nbformat": 2,
  "kernelspec": {
   "name": "python3",
   "display_name": "Python 3"
  }
 },
 "nbformat": 4,
 "nbformat_minor": 2,
 "cells": [
  {
   "source": [
    " # 12장"
   ],
   "cell_type": "markdown",
   "metadata": {}
  },
  {
   "source": [
    "### 4번"
   ],
   "cell_type": "markdown",
   "metadata": {}
  },
  {
   "cell_type": "code",
   "execution_count": 1,
   "metadata": {},
   "outputs": [],
   "source": [
    "mommoth = '''We have seen thee, queen of cheese,\n",
    "Lying quietly at your ease,\n",
    "Gently fanned by evening breeze,\n",
    "Thy fair form no flies dare seize.\n",
    "All gaily dressed soon you'll go\n",
    "To the great Provincial show,\n",
    "To be admired by many a beau\n",
    "In the city of Toronto.\n",
    "Cows numerous as a swarm of bees,\n",
    "Or as the leaves upon the trees,\n",
    "It did require to make thee please,\n",
    "And stand unrivalled, queen of cheese.[Pg 72]\n",
    "May you not receive a scar as\n",
    "We have heard that Mr. Harris\n",
    "Intends to send you off as far as\n",
    "The great world's show at Paris.\n",
    "Of the youth beware of these,\n",
    "For some of them might rudely squeeze\n",
    "And bite your cheek, then songs or glees\n",
    "We could not sing, oh! queen of cheese.\n",
    "We'rt thou suspended from balloon,\n",
    "You'd cast a shade even at noon,\n",
    "Folks would think it was the moon\n",
    "About to fall and crush them soon.'''"
   ]
  },
  {
   "source": [
    "### 5번"
   ],
   "cell_type": "markdown",
   "metadata": {}
  },
  {
   "cell_type": "code",
   "execution_count": 2,
   "metadata": {},
   "outputs": [
    {
     "output_type": "stream",
     "name": "stdout",
     "text": [
      "['cheese', 'city', 'cheese', 'cheek', 'could', 'cheese', 'cast', 'crush']\n"
     ]
    }
   ],
   "source": [
    "import re\n",
    "pattern = '\\\\bc\\\\w*\\\\b'\n",
    "print(re.findall(pattern,mommoth))"
   ]
  },
  {
   "source": [
    "### 6번"
   ],
   "cell_type": "markdown",
   "metadata": {}
  },
  {
   "source": [
    "pattern = '\\\\bc...\\\\b'\n",
    "print(re.findall(pattern,mommoth))"
   ],
   "cell_type": "code",
   "metadata": {},
   "execution_count": 3,
   "outputs": [
    {
     "output_type": "stream",
     "name": "stdout",
     "text": [
      "['city', 'cast']\n"
     ]
    }
   ]
  },
  {
   "source": [
    "### 7번"
   ],
   "cell_type": "markdown",
   "metadata": {}
  },
  {
   "cell_type": "code",
   "execution_count": 4,
   "metadata": {},
   "outputs": [
    {
     "output_type": "stream",
     "name": "stdout",
     "text": [
      "['your', 'fair', 'Or', 'scar', 'Mr', 'far', 'For', 'your', 'or']\n"
     ]
    }
   ],
   "source": [
    "pattern = '\\\\b\\\\w*r\\\\b'\n",
    "print(re.findall(pattern,mommoth)) "
   ]
  },
  {
   "source": [
    "### 8번"
   ],
   "cell_type": "markdown",
   "metadata": {}
  },
  {
   "cell_type": "code",
   "execution_count": 5,
   "metadata": {},
   "outputs": [
    {
     "output_type": "stream",
     "name": "stdout",
     "text": [
      "['queen', 'quietly', 'beau', 'queen', 'squeeze', 'queen']\n"
     ]
    }
   ],
   "source": [
    "pattern = '\\\\b\\\\w*[aeiou]{3}\\\\w*\\\\b'\n",
    "print(re.findall(pattern,mommoth)) "
   ]
  },
  {
   "source": [
    "# 13장"
   ],
   "cell_type": "markdown",
   "metadata": {}
  },
  {
   "source": [
    "### 1번"
   ],
   "cell_type": "markdown",
   "metadata": {}
  },
  {
   "cell_type": "code",
   "execution_count": 6,
   "metadata": {},
   "outputs": [],
   "source": [
    "import datetime\n",
    "now = datetime.date.today()\n",
    "with open('today.txt','w') as file:\n",
    "    file.write(str(now))"
   ]
  },
  {
   "source": [
    "### 2번"
   ],
   "cell_type": "markdown",
   "metadata": {}
  },
  {
   "cell_type": "code",
   "execution_count": 7,
   "metadata": {},
   "outputs": [
    {
     "output_type": "stream",
     "name": "stdout",
     "text": [
      "['2020-11-05']\n"
     ]
    }
   ],
   "source": [
    "with open('today.txt','r') as file:\n",
    "    today_String = file.readlines()\n",
    "print(today_String)"
   ]
  },
  {
   "source": [
    "### 3번"
   ],
   "cell_type": "markdown",
   "metadata": {}
  },
  {
   "cell_type": "code",
   "execution_count": 8,
   "metadata": {},
   "outputs": [
    {
     "output_type": "stream",
     "name": "stdout",
     "text": [
      "['2020', '11', '05']\n"
     ]
    }
   ],
   "source": [
    "from datetime import *\n",
    "t = today_String[0].split('-')\n",
    "print(t)"
   ]
  },
  {
   "cell_type": "code",
   "execution_count": 9,
   "metadata": {},
   "outputs": [
    {
     "output_type": "stream",
     "name": "stdout",
     "text": [
      "2020-11-05\n"
     ]
    }
   ],
   "source": [
    "t = date(*list(map(int,t)))\n",
    "print(t)"
   ]
  },
  {
   "source": [
    "### 4번"
   ],
   "cell_type": "markdown",
   "metadata": {}
  },
  {
   "cell_type": "code",
   "execution_count": 10,
   "metadata": {},
   "outputs": [
    {
     "output_type": "stream",
     "name": "stdout",
     "text": [
      "1991-08-30\n"
     ]
    }
   ],
   "source": [
    "my_Birthday = date(1991, 8, 30)\n",
    "print(my_Birthday)"
   ]
  },
  {
   "source": [
    "### 5번"
   ],
   "cell_type": "markdown",
   "metadata": {}
  },
  {
   "cell_type": "code",
   "execution_count": 11,
   "metadata": {},
   "outputs": [
    {
     "output_type": "execute_result",
     "data": {
      "text/plain": [
       "'제가 태어난 요일은 Friday입니다'"
      ]
     },
     "metadata": {},
     "execution_count": 11
    }
   ],
   "source": [
    "my_Birthday.strftime('제가 태어난 요일은 %A입니다')"
   ]
  },
  {
   "source": [
    "### 6번 "
   ],
   "cell_type": "markdown",
   "metadata": {}
  },
  {
   "cell_type": "code",
   "execution_count": 12,
   "metadata": {},
   "outputs": [
    {
     "output_type": "stream",
     "name": "stdout",
     "text": [
      "2019-01-15\n"
     ]
    }
   ],
   "source": [
    "many_days = timedelta(days=10000)\n",
    "print(my_Birthday + many_days)"
   ]
  }
 ]
}