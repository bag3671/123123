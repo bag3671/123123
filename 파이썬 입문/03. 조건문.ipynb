{
 "cells": [
  {
   "cell_type": "code",
   "execution_count": 1,
   "metadata": {},
   "outputs": [
    {
     "name": "stdout",
     "output_type": "stream",
     "text": [
      "숫자를 입력하세요 :7\n"
     ]
    }
   ],
   "source": [
    "# 양수판별\n",
    "n = int(input('숫자를 입력하세요 :'))"
   ]
  },
  {
   "cell_type": "code",
   "execution_count": 2,
   "metadata": {},
   "outputs": [
    {
     "name": "stdout",
     "output_type": "stream",
     "text": [
      "7 은/는 양수입니다\n"
     ]
    }
   ],
   "source": [
    "if n > 0 :\n",
    "    print('%d 은/는 양수입니다'% n)\n",
    "else :\n",
    "    print('%d 은/는 0 또는 음수!' % n)"
   ]
  },
  {
   "cell_type": "code",
   "execution_count": 4,
   "metadata": {},
   "outputs": [
    {
     "name": "stdout",
     "output_type": "stream",
     "text": [
      "이름을 입력하세요 :철수\n",
      "필기성적을 입력하세요 :30\n",
      "실기성적을 입력하세요 :20\n",
      "철수님은 불합격입니다\n"
     ]
    }
   ],
   "source": [
    "# 논리 곱\n",
    "name = input('이름을 입력하세요 :')\n",
    "score1 = int(input('필기성적을 입력하세요 :'))\n",
    "score2 = int(input('실기성적을 입력하세요 :'))\n",
    "\n",
    "if (score1 >= 80) and (score2 >= 80) :\n",
    "    print('%s님은 합격입니다' % name)\n",
    "else :\n",
    "    print('%s님은 불합격입니다' % name)"
   ]
  },
  {
   "cell_type": "code",
   "execution_count": 5,
   "metadata": {},
   "outputs": [
    {
     "name": "stdout",
     "output_type": "stream",
     "text": [
      "이름을 입력하세요 : 철수\n"
     ]
    }
   ],
   "source": [
    "# 논리부정\n",
    "name = input('이름을 입력하세요 : ')"
   ]
  },
  {
   "cell_type": "code",
   "execution_count": 6,
   "metadata": {},
   "outputs": [
    {
     "name": "stdout",
     "output_type": "stream",
     "text": [
      "입력된 이름 : 철수\n"
     ]
    }
   ],
   "source": [
    "if not name:\n",
    "    print('이름이 입력되지 않았음.')\n",
    "else :\n",
    "    print('입력된 이름 : %s' % name)"
   ]
  },
  {
   "cell_type": "code",
   "execution_count": 7,
   "metadata": {},
   "outputs": [
    {
     "name": "stdout",
     "output_type": "stream",
     "text": [
      "정수 입력> 7\n"
     ]
    }
   ],
   "source": [
    "#양수, 0, 음수판별\n",
    "n = int(input('정수 입력> '))"
   ]
  },
  {
   "cell_type": "code",
   "execution_count": 8,
   "metadata": {},
   "outputs": [
    {
     "name": "stdout",
     "output_type": "stream",
     "text": [
      "7 은/는 양수입니다\n"
     ]
    }
   ],
   "source": [
    "if n > 0:\n",
    "    print('%s 은/는 양수입니다' % n)\n",
    "elif n == 0:\n",
    "    print('%s 은/는 0입니다' % n)\n",
    "else :\n",
    "    print('%s 은/는 음수입니다' % n)"
   ]
  },
  {
   "cell_type": "code",
   "execution_count": 9,
   "metadata": {},
   "outputs": [
    {
     "name": "stdout",
     "output_type": "stream",
     "text": [
      "비밀번호를 입력하세요 : 111\n",
      "비밀번호 NOT OK!\n"
     ]
    }
   ],
   "source": [
    "answer = '12345'\n",
    "password = input('비밀번호를 입력하세요 : ')\n",
    "\n",
    "if password == answer :\n",
    "    print('비밀번호 OK!')\n",
    "else :\n",
    "    print('비밀번호 NOT OK!')\n"
   ]
  },
  {
   "cell_type": "code",
   "execution_count": 10,
   "metadata": {},
   "outputs": [
    {
     "name": "stdout",
     "output_type": "stream",
     "text": [
      "점수를 입력하세요 : 80\n",
      "성적 : 80점\n",
      "등급 : B\n"
     ]
    }
   ],
   "source": [
    "score = int(input('점수를 입력하세요 : '))\n",
    "\n",
    "if score >= 90 :\n",
    "    grade = 'A'\n",
    "elif score >= 80 :\n",
    "    grade = 'B'\n",
    "elif score >= 70 :\n",
    "    grade = 'C'\n",
    "elif score >= 60 :\n",
    "    grade = 'D'\n",
    "else :\n",
    "    grade = 'F'\n",
    "    \n",
    "print('성적 : %d점'% score)\n",
    "print('등급 : %s'% grade)\n"
   ]
  },
  {
   "cell_type": "code",
   "execution_count": 11,
   "metadata": {},
   "outputs": [
    {
     "name": "stdout",
     "output_type": "stream",
     "text": [
      "월을 입력하세요 : 8\n",
      "8 월은 여름입니다.\n"
     ]
    }
   ],
   "source": [
    "month = int(input('월을 입력하세요 : '))\n",
    "\n",
    "if month >= 3 and month <= 5:\n",
    "    print('%d 월은 봄입니다.'% month)\n",
    "if month >= 6 and month <= 8:\n",
    "    print('%d 월은 여름입니다.'% month)\n",
    "if month >= 9 and month <= 11:\n",
    "    print('%d 월은 가을입니다.'% month)\n",
    "if month ==12 or month ==1 or month ==2: \n",
    "     print('%d 월은 겨울입니다.'% month)"
   ]
  },
  {
   "cell_type": "code",
   "execution_count": 12,
   "metadata": {},
   "outputs": [
    {
     "name": "stdout",
     "output_type": "stream",
     "text": [
      "숫자>7\n",
      "숫자>50\n",
      "숫자>100\n"
     ]
    }
   ],
   "source": [
    "# 세수의 합과 평균\n",
    "x = int(input('숫자>'))\n",
    "y = int(input('숫자>'))\n",
    "z = int(input('숫자>'))"
   ]
  },
  {
   "cell_type": "code",
   "execution_count": 14,
   "metadata": {},
   "outputs": [
    {
     "name": "stdout",
     "output_type": "stream",
     "text": [
      "세개의 숫자입력7 50 100\n"
     ]
    }
   ],
   "source": [
    "x, y, z = input('세개의 숫자입력').split()"
   ]
  },
  {
   "cell_type": "code",
   "execution_count": 15,
   "metadata": {},
   "outputs": [
    {
     "data": {
      "text/plain": [
       "('7', '50', '100')"
      ]
     },
     "execution_count": 15,
     "metadata": {},
     "output_type": "execute_result"
    }
   ],
   "source": [
    "x, y, z "
   ]
  },
  {
   "cell_type": "code",
   "execution_count": 16,
   "metadata": {},
   "outputs": [
    {
     "data": {
      "text/plain": [
       "(7, 50, 100)"
      ]
     },
     "execution_count": 16,
     "metadata": {},
     "output_type": "execute_result"
    }
   ],
   "source": [
    "int(x), int(y), int(z) "
   ]
  },
  {
   "cell_type": "code",
   "execution_count": 17,
   "metadata": {},
   "outputs": [
    {
     "name": "stdout",
     "output_type": "stream",
     "text": [
      "세개의 숫자입력7 50 100\n"
     ]
    },
    {
     "data": {
      "text/plain": [
       "(7, 50, 100)"
      ]
     },
     "execution_count": 17,
     "metadata": {},
     "output_type": "execute_result"
    }
   ],
   "source": [
    "x, y, z = map(int, input('세개의 숫자입력').split())\n",
    "x, y, z"
   ]
  },
  {
   "cell_type": "code",
   "execution_count": 18,
   "metadata": {},
   "outputs": [
    {
     "data": {
      "text/plain": [
       "(157, 52.333333333333336)"
      ]
     },
     "execution_count": 18,
     "metadata": {},
     "output_type": "execute_result"
    }
   ],
   "source": [
    "sum = x + y + z\n",
    "avg = sum / 3\n",
    "sum, avg"
   ]
  },
  {
   "cell_type": "code",
   "execution_count": 19,
   "metadata": {},
   "outputs": [],
   "source": [
    "# 만 나이 계산\n",
    "current_year = 2020\n",
    "current_month = 8\n",
    "current_day = 28"
   ]
  },
  {
   "cell_type": "code",
   "execution_count": 20,
   "metadata": {},
   "outputs": [
    {
     "name": "stdout",
     "output_type": "stream",
     "text": [
      "생일입력> 2001 7 8\n"
     ]
    },
    {
     "data": {
      "text/plain": [
       "(2001, 7, 8)"
      ]
     },
     "execution_count": 20,
     "metadata": {},
     "output_type": "execute_result"
    }
   ],
   "source": [
    "year, month, day = map(int,input('생일입력> ').split())\n",
    "year, month, day"
   ]
  },
  {
   "cell_type": "code",
   "execution_count": 21,
   "metadata": {},
   "outputs": [
    {
     "name": "stdout",
     "output_type": "stream",
     "text": [
      "19\n"
     ]
    }
   ],
   "source": [
    "if current_month > month:                          #현재월 > 생일\n",
    "\n",
    "    age = current_year-year                        #현재월 < 생일\n",
    "elif current_month < month:                         \n",
    "    age = age = current_year-year-1\n",
    "else:                                              #현재월 = 생일\n",
    "    if current_day < day:                             #현재일 < 생일\n",
    "        age = age = current_year-year-1\n",
    "    else :                                            #현재일 >= 생일\n",
    "        age = current_year-year\n",
    "        \n",
    "print (age)"
   ]
  },
  {
   "cell_type": "code",
   "execution_count": 17,
   "metadata": {},
   "outputs": [
    {
     "data": {
      "text/plain": [
       "datetime.datetime(2020, 8, 28, 11, 23, 32, 960640)"
      ]
     },
     "execution_count": 17,
     "metadata": {},
     "output_type": "execute_result"
    }
   ],
   "source": [
    "# 파이썬 datetime 모듈\n",
    "import datetime\n",
    "datetime.datetime.now()      "
   ]
  },
  {
   "cell_type": "code",
   "execution_count": 18,
   "metadata": {},
   "outputs": [
    {
     "data": {
      "text/plain": [
       "(2020, 8, 28)"
      ]
     },
     "execution_count": 18,
     "metadata": {},
     "output_type": "execute_result"
    }
   ],
   "source": [
    "current_year = datetime.datetime.now().year\n",
    "current_month = datetime.datetime.now().month\n",
    "current_day = datetime.datetime.now().day\n",
    "current_year, current_month, current_day"
   ]
  },
  {
   "cell_type": "code",
   "execution_count": 19,
   "metadata": {},
   "outputs": [
    {
     "name": "stdout",
     "output_type": "stream",
     "text": [
      "생일입력> 2000 8 7\n"
     ]
    },
    {
     "data": {
      "text/plain": [
       "(2000, 8, 7)"
      ]
     },
     "execution_count": 19,
     "metadata": {},
     "output_type": "execute_result"
    }
   ],
   "source": [
    "year, month, day = map(int,input('생일입력> ').split())\n",
    "year, month, day"
   ]
  },
  {
   "cell_type": "code",
   "execution_count": 20,
   "metadata": {},
   "outputs": [
    {
     "name": "stdout",
     "output_type": "stream",
     "text": [
      "20\n"
     ]
    }
   ],
   "source": [
    "if current_month > month:                          #현재월 > 생일\n",
    "\n",
    "    age = current_year-year                        #현재월 < 생일\n",
    "elif current_month < month:                         \n",
    "    age = age = current_year-year-1\n",
    "else:                                              #현재월 = 생일\n",
    "    if current_day < day:                             #현재일 < 생일\n",
    "        age = age = current_year-year-1\n",
    "    else :                                            #현재일 >= 생일\n",
    "        age = current_year-year\n",
    "        \n",
    "print (age)"
   ]
  },
  {
   "cell_type": "code",
   "execution_count": 22,
   "metadata": {},
   "outputs": [
    {
     "name": "stdout",
     "output_type": "stream",
     "text": [
      "생일 6자리 숫자000430\n"
     ]
    },
    {
     "data": {
      "text/plain": [
       "(2000, 4, 30)"
      ]
     },
     "execution_count": 22,
     "metadata": {},
     "output_type": "execute_result"
    }
   ],
   "source": [
    "# 생일 6자리 숫자로 받아서 처리하기\n",
    "birthday = input('생일 6자리 숫자')\n",
    "b_year = int(birthday[:2])\n",
    "if b_year < 20 :\n",
    "    b_year += 2000\n",
    "else :\n",
    "    b_year += 1900\n",
    "b_month = int(birthday[2:4])\n",
    "b_day = int(birthday[4:])    \n",
    "b_year, b_month, b_day"
   ]
  },
  {
   "cell_type": "code",
   "execution_count": 27,
   "metadata": {},
   "outputs": [
    {
     "name": "stdout",
     "output_type": "stream",
     "text": [
      "생일(6, 7, 8자리 숫자)>001227\n",
      "2000 12 27\n"
     ]
    }
   ],
   "source": [
    "#생일 임의의 연속된 숫자로 받아서 처리하기\n",
    "birthday = input('생일(6, 7, 8자리 숫자)>')\n",
    "if len(birthday) == 6:\n",
    "    b_year = int(birthday[:2])\n",
    "    if b_year < 20 :\n",
    "        b_year += 2000\n",
    "    else :\n",
    "        b_year += 1900\n",
    "    b_month = int(birthday[2:4])\n",
    "    b_day = int(birthday[4:])    \n",
    "elif len(birthday) == 7:\n",
    "    b_year = int(birthday[:2])\n",
    "    if int(birthday[-1]) > 2 :\n",
    "        b_year += 2000\n",
    "    else :\n",
    "        b_year += 1900\n",
    "    b_month = int(birthday[2:4])\n",
    "    b_day = int(birthday[4:])    \n",
    "elif len(birthday) == 8:\n",
    "    b_month = int(birthday[:4])\n",
    "    b_month = int(birthday[4:6])\n",
    "    b_day = int(birthday[6:])\n",
    "else :\n",
    "    print('6~8자리의 숫자를 입력해주세요')\n",
    "print(b_year, b_month, b_day)"
   ]
  },
  {
   "cell_type": "markdown",
   "metadata": {},
   "source": [
    "## Q3-2"
   ]
  },
  {
   "cell_type": "code",
   "execution_count": 38,
   "metadata": {},
   "outputs": [
    {
     "name": "stdout",
     "output_type": "stream",
     "text": [
      "좌석 종류를 입력해 주세요(1:일반실, 2:특실):1\n",
      "일반실입니다.\n"
     ]
    }
   ],
   "source": [
    "a = int(input('좌석 종류를 입력해 주세요(1:일반실, 2:특실):'))\n",
    "\n",
    "seat1 = '일반실'\n",
    "seat2 = '특실'\n",
    "\n",
    "if a == 1:\n",
    "    print('%s입니다.'%seat1)\n",
    "if a == 2:\n",
    "    print('%s입니다.'%seat2)"
   ]
  },
  {
   "cell_type": "code",
   "execution_count": 42,
   "metadata": {},
   "outputs": [
    {
     "name": "stdout",
     "output_type": "stream",
     "text": [
      "숫자를 입력하세요 : 4\n",
      "%d은(는)4의 배수이다.\n",
      "4은(는) 4의 배수도 5의 배수도 아니다.\n"
     ]
    }
   ],
   "source": [
    "a = int(input('숫자를 입력하세요 : '))\n",
    "if a % 4 == 0 and a % 5 != 0:\n",
    "    print('%d은(는)4의 배수이다.')\n",
    "if a % 4 != 0 and a % 5 == 0:\n",
    "    print('%d은(는) 4의 배수이다.')\n",
    "if a % 4 == 0 and a % 5 == 0:\n",
    "    print('%d은(는)4와 5의 배수이다.')\n",
    "else :\n",
    "    print('%d은(는) 4의 배수도 5의 배수도 아니다.' % a)\n",
    "\n"
   ]
  },
  {
   "cell_type": "code",
   "execution_count": null,
   "metadata": {},
   "outputs": [],
   "source": []
  }
 ],
 "metadata": {
  "kernelspec": {
   "display_name": "Python 3",
   "language": "python",
   "name": "python3"
  },
  "language_info": {
   "codemirror_mode": {
    "name": "ipython",
    "version": 3
   },
   "file_extension": ".py",
   "mimetype": "text/x-python",
   "name": "python",
   "nbconvert_exporter": "python",
   "pygments_lexer": "ipython3",
   "version": "3.8.3"
  }
 },
 "nbformat": 4,
 "nbformat_minor": 4
}
